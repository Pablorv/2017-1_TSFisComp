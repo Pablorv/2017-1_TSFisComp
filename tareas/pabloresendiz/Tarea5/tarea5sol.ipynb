{
 "cells": [
  {
   "cell_type": "markdown",
   "metadata": {},
   "source": [
    "# Tarea 5"
   ]
  },
  {
   "cell_type": "markdown",
   "metadata": {},
   "source": [
    "NOTA\n",
    "Los ejercicios de este notebook componen la Tarea5, para la que las fechas relevantes son:\n",
    "Envío del PR inicial: lunes 17 de octubre\n",
    "Aceptación del PR: lunes 31 de octubre"
   ]
  },
  {
   "cell_type": "markdown",
   "metadata": {},
   "source": [
    "# Exponente(s) de Lyapunov"
   ]
  },
  {
   "cell_type": "markdown",
   "metadata": {},
   "source": [
    "Una manera de caracterizar el caos en el sentido de *sensibilidad a condiciones iniciales* es a través de los exponentes de Liapunov. La idea es sencilla: si hay una separación *exponencial* de condiciones iniciales muy cercanas, entonces diremos que hay caos."
   ]
  },
  {
   "cell_type": "markdown",
   "metadata": {},
   "source": [
    "Por esto, simplemente monitoreamos la evolución de dos condiciones iniciales cercanas, $x_0$ y $x_0+\\epsilon$, donde $\\epsilon>0$ y pequeño.\n",
    "\n",
    "Considerando mapeos en una dimensión, la distancia entre los iterados $n$ es\n",
    "\n",
    "\\begin{equation}\n",
    "D_n = \\big|\\, f^{n}(x_0+\\epsilon)-f^{n}(x_0) \\big|\\,.\n",
    "\\end{equation}"
   ]
  },
  {
   "cell_type": "markdown",
   "metadata": {},
   "source": [
    "ntonces, suponiendo que $d_n$ tiene una dependencia exponencial de $n$, para $n\\to\\infty$ y $\\epsilon\\to 0$, escribimos $d_n= \\epsilon \\exp(\\lambda n)$, de donde obtenemos\n",
    "\n",
    "\\begin{equation}\n",
    "\\lambda(x_0) \\equiv \\lim_{n\\to\\infty} \\lim_{\\epsilon\\to 0} \n",
    "\\frac{1}{n}\\log\\Big| \\frac{f^{n}(x_0+\\epsilon)-f^{n}(x_0)}{\\epsilon}\\Big|.\n",
    "\\end{equation}\n",
    "\n",
    "A $\\lambda(x_0)$ se le llama exponente de Lyapunov. Si $\\lambda(x_0)>0$ diremos que hay caos, mientras que si $\\lambda(x_0)<0$ diremos que no lo hay."
   ]
  },
  {
   "cell_type": "markdown",
   "metadata": {},
   "source": [
    "Observaciones:\n",
    "\n",
    "- El exponente de Liapunov, estrictamente hablando, depende de la condición inicial $x_0$.\n",
    "\n",
    "- En la definición del exponente de Lyapunov se require la evaluación de **dos** límites, uno que involucra al tiempo ($n\\to\\infty$), y otro a la condición inicial ($\\epsilon\\to 0$).\n",
    "\n",
    "- La definición del exponente de Lyapunov es sutil, ya que en muchas ocasiones *sabemos* que el rango de $f(x)$ y de $f^n(x)$ es acotado cuando $x$ está en cierto dominio, lo que entonces podría llevar erróneamente a concluir que $\\lambda(x_0)=0$. (La sutileza está en que el órden de los límites no conmuta.)"
   ]
  },
  {
   "cell_type": "markdown",
   "metadata": {},
   "source": [
    "-"
   ]
  },
  {
   "cell_type": "markdown",
   "metadata": {},
   "source": [
    "Si el mapeo $f(x)$ es suficientemente suave, entonces podemos escribir\n",
    "\n",
    "\\begin{equation}\n",
    "\\lambda(x_0) = \\lim_{n\\to\\infty} \\frac{1}{n}\\log\\Big| \\frac{{\\rm d} f^{n}}{{\\rm d}x}(x_0)\\Big|,\n",
    "\\end{equation}\n",
    "\n",
    "Usando que\n",
    "\n",
    "\\begin{equation}\n",
    "\\frac{{\\rm d}f^n}{{\\rm d}x}(x_0) = f'(x_0) f'(x_1)\\dots f'(x_{n-1}) \n",
    "= \\prod_{i=1}^{n} f'(x_i), \n",
    "\\end{equation}\n",
    "\n",
    "donde $x_i=f^i(x_0)$\n",
    "obtenemos\n",
    "\n",
    "\\begin{equation}\n",
    "\\lambda(x_0) = \\lim_{n\\to\\infty} \\frac{1}{n} \\sum_{i=1}^n \\log\n",
    "\\Big| \\, f'(x_i)\\, \\Big|.\n",
    "\\end{equation}"
   ]
  },
  {
   "cell_type": "markdown",
   "metadata": {},
   "source": [
    "**Ejercicio 1:**\n",
    "\n",
    "Obtengan, para la familia de mapeos cuadrática $Q_c(x)$, el diagrama que muestra el exponente de Lyapunov en términos de $c$.\n",
    "\n",
    "- ¿Qué particularidad ocurre (en términos del exponente de Lyapunov) para los valores\n",
    "de $c$ donde hay bifurcaciones?\n",
    "\n",
    "- ¿Qué particularidad ocurre (en términos del exponente de Lyapunov) cuando tenemos *ciclos superestables*, es decir, cuando $x=0$ es parte de un ciclo periódico?"
   ]
  },
  {
   "cell_type": "code",
   "execution_count": 3,
   "metadata": {
    "collapsed": false
   },
   "outputs": [
    {
     "name": "stderr",
     "output_type": "stream",
     "text": [
      "WARNING: Method definition *(#T<:Real, AD.Dual) in module AD at /home/pablorv/Desktop/TS/respaldo/tareas/pabloresendiz/Tarea5/AutomDiff_V2.jl:43 overwritten at /home/pablorv/Desktop/TS/respaldo/tareas/pabloresendiz/Tarea5/AutomDiff_V2.jl:53.\n"
     ]
    }
   ],
   "source": [
    "using PyPlot, Roots\n",
    "include(\"AutomDiff_V2.jl\")\n",
    "import AD: Dual, xdual"
   ]
  },
  {
   "cell_type": "code",
   "execution_count": 4,
   "metadata": {
    "collapsed": false,
    "scrolled": true
   },
   "outputs": [],
   "source": [
    "#Pkg.add(\"TaylorSeries\")"
   ]
  },
  {
   "cell_type": "markdown",
   "metadata": {
    "collapsed": false
   },
   "source": [
    "Iterémos n veces una función f cualquiera dada una condición inicial $x_{0}$."
   ]
  },
  {
   "cell_type": "code",
   "execution_count": 5,
   "metadata": {
    "collapsed": false
   },
   "outputs": [
    {
     "data": {
      "text/plain": [
       "iterandoando (generic function with 1 method)"
      ]
     },
     "execution_count": 5,
     "metadata": {},
     "output_type": "execute_result"
    }
   ],
   "source": [
    "function iterandoando(f::Function,x0::Float64,n::Int64)\n",
    "    ev = Float64[x0]\n",
    "    x=x0\n",
    "    for i in 1:n\n",
    "        x=f(x)\n",
    "        push!(ev,x)\n",
    "    end\n",
    "    ev\n",
    "end"
   ]
  },
  {
   "cell_type": "markdown",
   "metadata": {},
   "source": [
    "Calculemos entonces los exponentes de Lyapunov de la función f:"
   ]
  },
  {
   "cell_type": "code",
   "execution_count": 6,
   "metadata": {
    "collapsed": false
   },
   "outputs": [
    {
     "data": {
      "text/plain": [
       "exponentes (generic function with 1 method)"
      ]
     },
     "execution_count": 6,
     "metadata": {},
     "output_type": "execute_result"
    }
   ],
   "source": [
    "function exponentes(ev::Array,f::Function)\n",
    "    n=length(ev)\n",
    "    lambda=0\n",
    "    for i in 1:n\n",
    "        sumando=abs((f(xdual(ev[i]))).der)\n",
    "        lambda=lambda + log(sumando)\n",
    "       # println(\"Valor del exponente en la iteración\")(i,lambda/i)\n",
    "    end\n",
    "    lambda/n\n",
    "end\n"
   ]
  },
  {
   "cell_type": "markdown",
   "metadata": {},
   "source": [
    "Ahora utilicemos las funciones antes creadas para obtener los exponentes  de nuestras $Q_{c}(x)$. Como queremos encontrar los mínimos de la función, sólo nos interesarán los exponentes de Lyapunov negativos."
   ]
  },
  {
   "cell_type": "code",
   "execution_count": 7,
   "metadata": {
    "collapsed": false
   },
   "outputs": [
    {
     "data": {
      "text/plain": [
       "explyap (generic function with 1 method)"
      ]
     },
     "execution_count": 7,
     "metadata": {},
     "output_type": "execute_result"
    }
   ],
   "source": [
    "function explyap(Qc::Function,x0::Float64,crange::FloatRange,n::Int64)\n",
    "    evaluacion=Float64[]\n",
    "    valordec=Float64[]\n",
    "    for i in crange\n",
    "        Qci(x)=Qc(x,i)\n",
    "        ev=iterandoando(Qci,x0,n)\n",
    "        lambda=exponentes(ev,Qci)\n",
    "        if lambda<=0\n",
    "            if abs(lambda)<Inf\n",
    "                push!(evaluacion,lambda)\n",
    "            else\n",
    "                push!(evaluacion,-10)       \n",
    "          end\n",
    "        else\n",
    "            break \n",
    "        end \n",
    "    end \n",
    "    for i in 1:length(evaluacion)\n",
    "        push!(valordec,crange[i])\n",
    "    end\n",
    "    evaluacion,valordec\n",
    "end"
   ]
  },
  {
   "cell_type": "code",
   "execution_count": 8,
   "metadata": {
    "collapsed": false,
    "scrolled": true
   },
   "outputs": [
    {
     "data": {
      "text/plain": [
       "Qc (generic function with 1 method)"
      ]
     },
     "execution_count": 8,
     "metadata": {},
     "output_type": "execute_result"
    }
   ],
   "source": [
    "Qc(x,c)=x^2+c"
   ]
  },
  {
   "cell_type": "code",
   "execution_count": 9,
   "metadata": {
    "collapsed": false
   },
   "outputs": [],
   "source": [
    "crange = -(0.75-1/2^16):-1/2^16:-1.405\n",
    "func,c= explyap(Qc,1.0,crange,10000);"
   ]
  },
  {
   "cell_type": "code",
   "execution_count": 10,
   "metadata": {
    "collapsed": false
   },
   "outputs": [
    {
     "data": {
      "image/png": "[encoded data removed]",
      "text/plain": [
       "PyPlot.Figure(PyObject <matplotlib.figure.Figure object at 0x7f9d2749cef0>)"
      ]
     },
     "metadata": {},
     "output_type": "display_data"
    }
   ],
   "source": [
    "plot(c, func)\n",
    "plot([-0.75,  -0.75], [1, -1])\n",
    "plot([-1.25,  -1.25], [1, -1])\n",
    "xlabel(L\"c\")\n",
    "ylabel(L\"\\lambda(c)\")\n",
    "grid(true)\n",
    "title(L\"Exponentes de Lyapunov de $Q_c(x)= x^2 +c$\")\n",
    "ylim(-10,1.0)\n",
    "show()"
   ]
  },
  {
   "cell_type": "markdown",
   "metadata": {},
   "source": [
    "Ahora encontremos los valores de c para los que los exponentes se anulan:"
   ]
  },
  {
   "cell_type": "markdown",
   "metadata": {},
   "source": [
    "Los valores señalados son los valores de c de las bifurcaciones ya obtenidas previamente:\n",
    "$c_1=-1/4$ y $c_2=-3/4$. Y notamos que en estos valores, los exponentes de Lyapunov son cero. Por lo que se puede intuir que \n",
    "esta es la particularidad en los valores de bifurcación."
   ]
  },
  {
   "cell_type": "markdown",
   "metadata": {},
   "source": [
    "Tratemos de comprobarlo encontrando los valores de c para los cuales los exponentes se anulan."
   ]
  },
  {
   "cell_type": "markdown",
   "metadata": {},
   "source": [
    "Implementemos la siguiente función que enlista los ceros en el arreglo $evaluación$ antes definido."
   ]
  },
  {
   "cell_type": "code",
   "execution_count": 11,
   "metadata": {
    "collapsed": false
   },
   "outputs": [
    {
     "data": {
      "text/plain": [
       "ceros! (generic function with 1 method)"
      ]
     },
     "execution_count": 11,
     "metadata": {},
     "output_type": "execute_result"
    }
   ],
   "source": [
    "function ceros!(valores::Array,evaluaciones::Array,resultados::Array)\n",
    "    for i in 1:length(evaluaciones)\n",
    "        if abs(evaluaciones[i]) < 2e-4\n",
    "            push!(resultados,valores[i])\n",
    "        end\n",
    "    end \n",
    "    \n",
    "end"
   ]
  },
  {
   "cell_type": "code",
   "execution_count": 12,
   "metadata": {
    "collapsed": false
   },
   "outputs": [
    {
     "data": {
      "text/plain": [
       "0-element Array{Float64,1}"
      ]
     },
     "execution_count": 12,
     "metadata": {},
     "output_type": "execute_result"
    }
   ],
   "source": [
    "resultados=Float64[]"
   ]
  },
  {
   "cell_type": "code",
   "execution_count": 13,
   "metadata": {
    "collapsed": false
   },
   "outputs": [],
   "source": [
    "ceros!(c,func,resultados)"
   ]
  },
  {
   "cell_type": "code",
   "execution_count": 14,
   "metadata": {
    "collapsed": false
   },
   "outputs": [
    {
     "data": {
      "text/plain": [
       "1-element Array{Float64,1}:\n",
       " -1.39963"
      ]
     },
     "execution_count": 14,
     "metadata": {},
     "output_type": "execute_result"
    }
   ],
   "source": [
    "resultados"
   ]
  },
  {
   "cell_type": "markdown",
   "metadata": {},
   "source": [
    "Notamos que solo nos da (aproximadamente) el valor de $c_1=-3/4$,  con una sensibilidad de $2e-4$, lo cual se debe\n",
    "al refinamiento dado en el cálculo de los exponentes. Sin embargo, al tratar de refinar, el tiempo de cálculo comienza\n",
    "a crecer muy rápido, por lo que concluimos que el método puede ser optimizado para éstos fines. Sin embargo,\n",
    "al estudiar la [literarura](http://hypertextbook.com/chaos/lyapunov-1/), encontramos que nuestra deducción es correcta. "
   ]
  },
  {
   "cell_type": "markdown",
   "metadata": {
    "collapsed": true
   },
   "source": [
    "## Ejercicio 2:\n",
    "Rehacer los cálculos de los exponentes de Feigenbaum, \\begin{eqnarray*} fn &=& \\frac{C_n-C{n+1}}{C{n+1}-C{n+2}},\\ an &=& \\frac{d_n}{d{n+1}}, \\end{eqnarray*}\n",
    "usando los valores $C_n$ donde se tienen ciclos superestables de periodo $2^n$. (Este ejercicio es muy parecido a los ejercicios 1 y 3 de la Tarea4.)"
   ]
  },
  {
   "cell_type": "markdown",
   "metadata": {},
   "source": [
    "\n",
    "## Ejercicio 3:\n",
    "Comparar gráficamente los mapeos $Q_{c}(x)$ y $Q_{c^\\prime}^2(x)$ para $c=1/4, 0, -3/4, -1, -2, -2.2$ y $c^\\prime=-3/4,-1,-5/4,-1.3, -1.546\\dots, -1.65$."
   ]
  },
  {
   "cell_type": "code",
   "execution_count": 133,
   "metadata": {
    "collapsed": false,
    "scrolled": true
   },
   "outputs": [
    {
     "ename": "LoadError",
     "evalue": "LoadError: ArgumentError: Module TaylorSeries not found in current path.\nRun `Pkg.add(\"TaylorSeries\")` to install the TaylorSeries package.\nwhile loading In[133], in expression starting on line 1",
     "output_type": "error",
     "traceback": [
      "LoadError: ArgumentError: Module TaylorSeries not found in current path.\nRun `Pkg.add(\"TaylorSeries\")` to install the TaylorSeries package.\nwhile loading In[133], in expression starting on line 1",
      "",
      " in require(::Symbol) at ./loading.jl:365"
     ]
    }
   ],
   "source": [
    "using TaylorSeries"
   ]
  },
  {
   "cell_type": "code",
   "execution_count": 48,
   "metadata": {
    "collapsed": false
   },
   "outputs": [
    {
     "name": "stderr",
     "output_type": "stream",
     "text": [
      "WARNING: Method definition roots_newton(Any, Any) in module Main at In[43]:2 overwritten at In[48]:2.\n"
     ]
    },
    {
     "data": {
      "text/plain": [
       "roots_newton (generic function with 1 method)"
      ]
     },
     "execution_count": 48,
     "metadata": {},
     "output_type": "execute_result"
    }
   ],
   "source": [
    "function roots_newton(f, x0) #derivando n veces\n",
    "    t = Taylor1(1)\n",
    "    for ind = 1:30\n",
    "       fT = f(x0+t)\n",
    "       x0 = x0 - fT.coeffs[1]/fT.coeffs[2]\n",
    "    end\n",
    "    x0\n",
    "end"
   ]
  },
  {
   "cell_type": "code",
   "execution_count": 49,
   "metadata": {
    "collapsed": false
   },
   "outputs": [
    {
     "data": {
      "text/plain": [
       "-1.3107026413368328"
      ]
     },
     "execution_count": 49,
     "metadata": {},
     "output_type": "execute_result"
    }
   ],
   "source": [
    "Q4c = c -> Qcⁿ(0.0, (c, 4))\n",
    "C2 = roots_newton(Q4c, -1.4)"
   ]
  },
  {
   "cell_type": "code",
   "execution_count": 63,
   "metadata": {
    "collapsed": false
   },
   "outputs": [
    {
     "data": {
      "text/plain": [
       "1"
      ]
     },
     "execution_count": 63,
     "metadata": {},
     "output_type": "execute_result"
    }
   ],
   "source": [
    "xdual(1).der"
   ]
  },
  {
   "cell_type": "code",
   "execution_count": 1,
   "metadata": {
    "collapsed": false
   },
   "outputs": [
    {
     "ename": "LoadError",
     "evalue": "LoadError: UndefVarError: xdual not defined\nwhile loading In[1], in expression starting on line 6",
     "output_type": "error",
     "traceback": [
      "LoadError: UndefVarError: xdual not defined\nwhile loading In[1], in expression starting on line 6",
      "",
      " in macro expansion; at ./In[1]:9 [inlined]",
      " in anonymous at ./<missing>:?"
     ]
    }
   ],
   "source": [
    "n=10    \n",
    "x0=0.0\n",
    "crange=-2:1/2^10:2\n",
    "coeficientes=zeros(length(crange),2)\n",
    "\n",
    "for j in eachindex(crange)\n",
    "    lambda=0.0\n",
    "    for i in 1:n\n",
    "        x= xdual(Qcⁿ(x0,(crange[j], n)))\n",
    "      # @show x\n",
    "        der=x.der\n",
    "        lambda += (1.0/n)*log(abs(der))\n",
    "    end \n",
    "    \n",
    "    coeficientes[j,2]= lambda\n",
    "    coeficientes[j,1]= crange[j]\n",
    "end"
   ]
  },
  {
   "cell_type": "code",
   "execution_count": 72,
   "metadata": {
    "collapsed": false
   },
   "outputs": [
    {
     "data": {
      "text/plain": [
       "4097×2 Array{Float64,2}:\n",
       " -2.0      0.0\n",
       " -1.99902  0.0\n",
       " -1.99805  0.0\n",
       " -1.99707  0.0\n",
       " -1.99609  0.0\n",
       " -1.99512  0.0\n",
       " -1.99414  0.0\n",
       " -1.99316  0.0\n",
       " -1.99219  0.0\n",
       " -1.99121  0.0\n",
       " -1.99023  0.0\n",
       " -1.98926  0.0\n",
       " -1.98828  0.0\n",
       "  ⋮           \n",
       "  1.98926  0.0\n",
       "  1.99023  0.0\n",
       "  1.99121  0.0\n",
       "  1.99219  0.0\n",
       "  1.99316  0.0\n",
       "  1.99414  0.0\n",
       "  1.99512  0.0\n",
       "  1.99609  0.0\n",
       "  1.99707  0.0\n",
       "  1.99805  0.0\n",
       "  1.99902  0.0\n",
       "  2.0      0.0"
      ]
     },
     "execution_count": 72,
     "metadata": {},
     "output_type": "execute_result"
    }
   ],
   "source": [
    "coeficientes"
   ]
  },
  {
   "cell_type": "code",
   "execution_count": 32,
   "metadata": {
    "collapsed": false
   },
   "outputs": [
    {
     "data": {
      "text/plain": [
       "1-element Array{FloatRange{Float64},1}:\n",
       " -2.0:0.03125:2.0"
      ]
     },
     "execution_count": 32,
     "metadata": {},
     "output_type": "execute_result"
    }
   ],
   "source": []
  },
  {
   "cell_type": "code",
   "execution_count": 26,
   "metadata": {
    "collapsed": false
   },
   "outputs": [
    {
     "data": {
      "text/plain": [
       "show (generic function with 199 methods)"
      ]
     },
     "execution_count": 26,
     "metadata": {},
     "output_type": "execute_result"
    }
   ],
   "source": [
    "show "
   ]
  },
  {
   "cell_type": "code",
   "execution_count": 27,
   "metadata": {
    "collapsed": false
   },
   "outputs": [
    {
     "name": "stdout",
     "output_type": "stream",
     "text": [
      "show"
     ]
    }
   ],
   "source": [
    "show(ans)"
   ]
  },
  {
   "cell_type": "code",
   "execution_count": null,
   "metadata": {
    "collapsed": true
   },
   "outputs": [],
   "source": []
  }
 ],
 "metadata": {
  "kernelspec": {
   "display_name": "Julia 0.5.0",
   "language": "julia",
   "name": "julia-0.5"
  },
  "language_info": {
   "file_extension": ".jl",
   "mimetype": "application/julia",
   "name": "julia",
   "version": "0.5.0"
  }
 },
 "nbformat": 4,
 "nbformat_minor": 0
}
