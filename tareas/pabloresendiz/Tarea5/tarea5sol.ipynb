{
 "cells": [
  {
   "cell_type": "markdown",
   "metadata": {},
   "source": [
    "# Tarea 5"
   ]
  },
  {
   "cell_type": "markdown",
   "metadata": {},
   "source": [
    "NOTA\n",
    "Los ejercicios de este notebook componen la Tarea5, para la que las fechas relevantes son:\n",
    "Envío del PR inicial: lunes 17 de octubre\n",
    "Aceptación del PR: lunes 31 de octubre"
   ]
  },
  {
   "cell_type": "markdown",
   "metadata": {},
   "source": [
    "# Exponente(s) de Lyapunov"
   ]
  },
  {
   "cell_type": "markdown",
   "metadata": {},
   "source": [
    "Una manera de caracterizar el caos en el sentido de *sensibilidad a condiciones iniciales* es a través de los exponentes de Liapunov. La idea es sencilla: si hay una separación *exponencial* de condiciones iniciales muy cercanas, entonces diremos que hay caos."
   ]
  },
  {
   "cell_type": "markdown",
   "metadata": {},
   "source": [
    "Por esto, simplemente monitoreamos la evolución de dos condiciones iniciales cercanas, $x_0$ y $x_0+\\epsilon$, donde $\\epsilon>0$ y pequeño.\n",
    "\n",
    "Considerando mapeos en una dimensión, la distancia entre los iterados $n$ es\n",
    "\n",
    "\\begin{equation}\n",
    "D_n = \\big|\\, f^{n}(x_0+\\epsilon)-f^{n}(x_0) \\big|\\,.\n",
    "\\end{equation}"
   ]
  },
  {
   "cell_type": "markdown",
   "metadata": {},
   "source": [
    "ntonces, suponiendo que $d_n$ tiene una dependencia exponencial de $n$, para $n\\to\\infty$ y $\\epsilon\\to 0$, escribimos $d_n= \\epsilon \\exp(\\lambda n)$, de donde obtenemos\n",
    "\n",
    "\\begin{equation}\n",
    "\\lambda(x_0) \\equiv \\lim_{n\\to\\infty} \\lim_{\\epsilon\\to 0} \n",
    "\\frac{1}{n}\\log\\Big| \\frac{f^{n}(x_0+\\epsilon)-f^{n}(x_0)}{\\epsilon}\\Big|.\n",
    "\\end{equation}\n",
    "\n",
    "A $\\lambda(x_0)$ se le llama exponente de Lyapunov. Si $\\lambda(x_0)>0$ diremos que hay caos, mientras que si $\\lambda(x_0)<0$ diremos que no lo hay."
   ]
  },
  {
   "cell_type": "markdown",
   "metadata": {},
   "source": [
    "Observaciones:\n",
    "\n",
    "- El exponente de Liapunov, estrictamente hablando, depende de la condición inicial $x_0$.\n",
    "\n",
    "- En la definición del exponente de Lyapunov se require la evaluación de **dos** límites, uno que involucra al tiempo ($n\\to\\infty$), y otro a la condición inicial ($\\epsilon\\to 0$).\n",
    "\n",
    "- La definición del exponente de Lyapunov es sutil, ya que en muchas ocasiones *sabemos* que el rango de $f(x)$ y de $f^n(x)$ es acotado cuando $x$ está en cierto dominio, lo que entonces podría llevar erróneamente a concluir que $\\lambda(x_0)=0$. (La sutileza está en que el órden de los límites no conmuta.)"
   ]
  },
  {
   "cell_type": "markdown",
   "metadata": {},
   "source": [
    "-"
   ]
  },
  {
   "cell_type": "markdown",
   "metadata": {},
   "source": [
    "Si el mapeo $f(x)$ es suficientemente suave, entonces podemos escribir\n",
    "\n",
    "\\begin{equation}\n",
    "\\lambda(x_0) = \\lim_{n\\to\\infty} \\frac{1}{n}\\log\\Big| \\frac{{\\rm d} f^{n}}{{\\rm d}x}(x_0)\\Big|,\n",
    "\\end{equation}\n",
    "\n",
    "Usando que\n",
    "\n",
    "\\begin{equation}\n",
    "\\frac{{\\rm d}f^n}{{\\rm d}x}(x_0) = f'(x_0) f'(x_1)\\dots f'(x_{n-1}) \n",
    "= \\prod_{i=1}^{n} f'(x_i), \n",
    "\\end{equation}\n",
    "\n",
    "donde $x_i=f^i(x_0)$\n",
    "obtenemos\n",
    "\n",
    "\\begin{equation}\n",
    "\\lambda(x_0) = \\lim_{n\\to\\infty} \\frac{1}{n} \\sum_{i=1}^n \\log\n",
    "\\Big| \\, f'(x_i)\\, \\Big|.\n",
    "\\end{equation}"
   ]
  },
  {
   "cell_type": "markdown",
   "metadata": {},
   "source": [
    "**Ejercicio 1:**\n",
    "\n",
    "Obtengan, para la familia de mapeos cuadrática $Q_c(x)$, el diagrama que muestra el exponente de Lyapunov en términos de $c$.\n",
    "\n",
    "- ¿Qué particularidad ocurre (en términos del exponente de Lyapunov) para los valores\n",
    "de $c$ donde hay bifurcaciones?\n",
    "\n",
    "- ¿Qué particularidad ocurre (en términos del exponente de Lyapunov) cuando tenemos *ciclos superestables*, es decir, cuando $x=0$ es parte de un ciclo periódico?"
   ]
  },
  {
   "cell_type": "code",
   "execution_count": 1,
   "metadata": {
    "collapsed": false
   },
   "outputs": [
    {
     "name": "stderr",
     "output_type": "stream",
     "text": [
      "INFO: Nothing to be done\n"
     ]
    }
   ],
   "source": [
    "Pkg.add(\"Roots\")"
   ]
  },
  {
   "cell_type": "code",
   "execution_count": 2,
   "metadata": {
    "collapsed": false
   },
   "outputs": [
    {
     "name": "stderr",
     "output_type": "stream",
     "text": [
      "INFO: Updating METADATA...\n",
      "INFO: Updating cache of DataFrames...\n",
      "INFO: Updating cache of DataFrames...\n",
      "INFO: Computing changes...\n",
      "INFO: No packages to install, update or remove\n"
     ]
    }
   ],
   "source": [
    "Pkg.update()"
   ]
  },
  {
   "cell_type": "code",
   "execution_count": 3,
   "metadata": {
    "collapsed": false
   },
   "outputs": [
    {
     "name": "stderr",
     "output_type": "stream",
     "text": [
      "WARNING: Method definition *(#T<:Real, AD.Dual) in module AD at /home/pablorv/Desktop/TS/respaldo/tareas/pabloresendiz/Tarea5/AutomDiff_V2.jl:43 overwritten at /home/pablorv/Desktop/TS/respaldo/tareas/pabloresendiz/Tarea5/AutomDiff_V2.jl:53.\n"
     ]
    }
   ],
   "source": [
    "using PyPlot, Roots\n",
    "include(\"AutomDiff_V2.jl\")\n",
    "import AD: Dual, xdual"
   ]
  },
  {
   "cell_type": "code",
   "execution_count": 4,
   "metadata": {
    "collapsed": false,
    "scrolled": true
   },
   "outputs": [
    {
     "name": "stderr",
     "output_type": "stream",
     "text": [
      "INFO: Nothing to be done\n"
     ]
    }
   ],
   "source": [
    "Pkg.add(\"TaylorSeries\")"
   ]
  },
  {
   "cell_type": "code",
   "execution_count": 5,
   "metadata": {
    "collapsed": false
   },
   "outputs": [
    {
     "name": "stderr",
     "output_type": "stream",
     "text": [
      "INFO: Updating METADATA...\n",
      "INFO: Updating cache of DataFrames...\n",
      "INFO: Updating cache of DataFrames...\n",
      "INFO: Computing changes...\n",
      "INFO: No packages to install, update or remove\n"
     ]
    }
   ],
   "source": [
    "Pkg.update()"
   ]
  },
  {
   "cell_type": "code",
   "execution_count": 6,
   "metadata": {
    "collapsed": false
   },
   "outputs": [],
   "source": [
    "using TaylorSeries"
   ]
  },
  {
   "cell_type": "markdown",
   "metadata": {
    "collapsed": false
   },
   "source": [
    "Iterémos n veces una función f cualquiera dada una condición inicial $x_{0}$."
   ]
  },
  {
   "cell_type": "code",
   "execution_count": 7,
   "metadata": {
    "collapsed": false
   },
   "outputs": [
    {
     "data": {
      "text/plain": [
       "iterandoando (generic function with 1 method)"
      ]
     },
     "execution_count": 7,
     "metadata": {},
     "output_type": "execute_result"
    }
   ],
   "source": [
    "function iterandoando(f::Function,x0::Float64,n::Int64)\n",
    "    ev = Float64[x0]\n",
    "    x=x0\n",
    "    for i in 1:n\n",
    "        x=f(x)\n",
    "        push!(ev,x)\n",
    "    end\n",
    "    ev\n",
    "end"
   ]
  },
  {
   "cell_type": "markdown",
   "metadata": {},
   "source": [
    "Calculemos entonces los exponentes de Lyapunov de la función f:"
   ]
  },
  {
   "cell_type": "code",
   "execution_count": 8,
   "metadata": {
    "collapsed": false
   },
   "outputs": [
    {
     "data": {
      "text/plain": [
       "exponentes (generic function with 1 method)"
      ]
     },
     "execution_count": 8,
     "metadata": {},
     "output_type": "execute_result"
    }
   ],
   "source": [
    "function exponentes(ev::Array,f::Function)\n",
    "    n=length(ev)\n",
    "    lambda=0\n",
    "    for i in 1:n\n",
    "        sumando=abs((f(xdual(ev[i]))).der)\n",
    "        lambda=lambda + log(sumando)\n",
    "       # println(\"Valor del exponente en la iteración\")(i,lambda/i)\n",
    "    end\n",
    "    lambda/n\n",
    "end\n"
   ]
  },
  {
   "cell_type": "markdown",
   "metadata": {},
   "source": [
    "Ahora utilicemos las funciones antes creadas para obtener los exponentes  de nuestras $Q_{c}(x)$. Como queremos encontrar los mínimos de la función, sólo nos interesarán los exponentes de Lyapunov negativos."
   ]
  },
  {
   "cell_type": "code",
   "execution_count": 9,
   "metadata": {
    "collapsed": false
   },
   "outputs": [
    {
     "data": {
      "text/plain": [
       "explyap (generic function with 1 method)"
      ]
     },
     "execution_count": 9,
     "metadata": {},
     "output_type": "execute_result"
    }
   ],
   "source": [
    "function explyap(Qc::Function,x0::Float64,crange::FloatRange,n::Int64)\n",
    "    evaluacion=Float64[]\n",
    "    valordec=Float64[]\n",
    "    for i in crange\n",
    "        Qci(x)=Qc(x,i)\n",
    "        ev=iterandoando(Qci,x0,n)\n",
    "        lambda=exponentes(ev,Qci)\n",
    "        if lambda<=0\n",
    "            if abs(lambda)<Inf\n",
    "                push!(evaluacion,lambda)\n",
    "            else\n",
    "                push!(evaluacion,-10)       \n",
    "          end\n",
    "        else\n",
    "            break \n",
    "        end \n",
    "    end \n",
    "    for i in 1:length(evaluacion)\n",
    "        push!(valordec,crange[i])\n",
    "    end\n",
    "    evaluacion,valordec\n",
    "end"
   ]
  },
  {
   "cell_type": "code",
   "execution_count": 10,
   "metadata": {
    "collapsed": false,
    "scrolled": true
   },
   "outputs": [
    {
     "data": {
      "text/plain": [
       "Qc (generic function with 1 method)"
      ]
     },
     "execution_count": 10,
     "metadata": {},
     "output_type": "execute_result"
    }
   ],
   "source": [
    "Qc(x,c)=x^2+c"
   ]
  },
  {
   "cell_type": "code",
   "execution_count": 11,
   "metadata": {
    "collapsed": false
   },
   "outputs": [],
   "source": [
    "crange = -(0.75-1/2^16):-1/2^10:-1.405\n",
    "func,c= explyap(Qc,1.0,crange,10000);"
   ]
  },
  {
   "cell_type": "code",
   "execution_count": 12,
   "metadata": {
    "collapsed": false
   },
   "outputs": [
    {
     "data": {
      "image/png": "[encoded data removed]",
      "text/plain": [
       "PyPlot.Figure(PyObject <matplotlib.figure.Figure object at 0x7f4a520a3470>)"
      ]
     },
     "metadata": {},
     "output_type": "display_data"
    }
   ],
   "source": [
    "plot(c, func)\n",
    "plot([-0.75,  -0.75], [1, -1])\n",
    "plot([-1.25,  -1.25], [1, -1])\n",
    "xlabel(L\"c\")\n",
    "ylabel(L\"\\lambda(c)\")\n",
    "grid(true)\n",
    "title(L\"Exponentes de Lyapunov de $Q_c(x)= x^2 +c$\")\n",
    "ylim(-10,1.0)\n",
    "show()"
   ]
  },
  {
   "cell_type": "markdown",
   "metadata": {},
   "source": [
    "Ahora encontremos los valores de c para los que los exponentes se anulan:"
   ]
  },
  {
   "cell_type": "markdown",
   "metadata": {},
   "source": [
    "Los valores señalados son los valores de c de las bifurcaciones ya obtenidas previamente:\n",
    "$c_1=-1/4$ y $c_2=-3/4$. Y notamos que en estos valores, los exponentes de Lyapunov son cero. Por lo que se puede intuir que \n",
    "esta es la particularidad en los valores de bifurcación."
   ]
  },
  {
   "cell_type": "markdown",
   "metadata": {},
   "source": [
    "Tratemos de comprobarlo encontrando los valores de c para los cuales los exponentes se anulan."
   ]
  },
  {
   "cell_type": "markdown",
   "metadata": {},
   "source": [
    "Implementemos la siguiente función que enlista los ceros en el arreglo $evaluación$ antes definido."
   ]
  },
  {
   "cell_type": "code",
   "execution_count": 13,
   "metadata": {
    "collapsed": false
   },
   "outputs": [
    {
     "data": {
      "text/plain": [
       "ceros! (generic function with 1 method)"
      ]
     },
     "execution_count": 13,
     "metadata": {},
     "output_type": "execute_result"
    }
   ],
   "source": [
    "function ceros!(valores::Array,evaluaciones::Array,resultados::Array)\n",
    "    for i in 1:length(evaluaciones)\n",
    "        if abs(evaluaciones[i]) < 2e-4\n",
    "            push!(resultados,valores[i])\n",
    "        end\n",
    "    end \n",
    "    \n",
    "end"
   ]
  },
  {
   "cell_type": "code",
   "execution_count": 14,
   "metadata": {
    "collapsed": false
   },
   "outputs": [
    {
     "data": {
      "text/plain": [
       "0-element Array{Float64,1}"
      ]
     },
     "execution_count": 14,
     "metadata": {},
     "output_type": "execute_result"
    }
   ],
   "source": [
    "resultados=Float64[]"
   ]
  },
  {
   "cell_type": "code",
   "execution_count": 15,
   "metadata": {
    "collapsed": false
   },
   "outputs": [],
   "source": [
    "ceros!(c,func,resultados)"
   ]
  },
  {
   "cell_type": "code",
   "execution_count": 16,
   "metadata": {
    "collapsed": false
   },
   "outputs": [
    {
     "data": {
      "text/plain": [
       "0-element Array{Float64,1}"
      ]
     },
     "execution_count": 16,
     "metadata": {},
     "output_type": "execute_result"
    }
   ],
   "source": [
    "resultados"
   ]
  },
  {
   "cell_type": "markdown",
   "metadata": {},
   "source": [
    "Notamos que solo nos da (aproximadamente) el valor de $c_1=-3/4$,  con una sensibilidad de $2e-4$, lo cual se debe\n",
    "al refinamiento dado en el cálculo de los exponentes. Sin embargo, al tratar de refinar, el tiempo de cálculo comienza\n",
    "a crecer muy rápido, por lo que concluimos que el método puede ser optimizado para éstos fines. Sin embargo,\n",
    "al estudiar la [literarura](http://hypertextbook.com/chaos/lyapunov-1/), encontramos que nuestra deducción es correcta. "
   ]
  },
  {
   "cell_type": "markdown",
   "metadata": {},
   "source": [
    "Ahora veamos qué pasa cuando la condición inicial es un punto fijo superestable ($x_0=0.0$):"
   ]
  },
  {
   "cell_type": "markdown",
   "metadata": {},
   "source": [
    "Marquemos los puntos conocidos donde hay puntos superestables $c= -1,-1.3107$ en la siguiente gráfica."
   ]
  },
  {
   "cell_type": "code",
   "execution_count": 17,
   "metadata": {
    "collapsed": true
   },
   "outputs": [],
   "source": [
    "crange = -(0.75-1/2^16):-1/2^10:-1.405\n",
    "func,c= explyap(Qc,1.0,crange,10000);"
   ]
  },
  {
   "cell_type": "code",
   "execution_count": 18,
   "metadata": {
    "collapsed": false
   },
   "outputs": [
    {
     "data": {
      "image/png": "[encoded data removed]",
      "text/plain": [
       "PyPlot.Figure(PyObject <matplotlib.figure.Figure object at 0x7f4a4a89bfd0>)"
      ]
     },
     "metadata": {},
     "output_type": "display_data"
    }
   ],
   "source": [
    "plot(c, func)\n",
    "plot([-1,  -1], [1, -5,])\n",
    "plot([-1.3107 ,  -1.3107 ], [1, -5,])\n",
    "xlabel(L\"c\")\n",
    "ylabel(L\"\\lambda(c)\")\n",
    "grid(true)\n",
    "title(L\"Exponentes de Lyapunov de $Q_c(x)= x^2 +c$\")\n",
    "ylim(-10,1.0)\n",
    "show()"
   ]
  },
  {
   "cell_type": "markdown",
   "metadata": {},
   "source": [
    "Observamos que en estos valores, los exponentes de Lyapunov divergen a $- \\infty$. Lo que, según la definición antes mencionada, son los puntos menos caóticos (o mas estables), del sistema. Ahora entendemos su nombre."
   ]
  },
  {
   "cell_type": "markdown",
   "metadata": {
    "collapsed": true
   },
   "source": [
    "## Ejercicio 2:\n",
    "Rehacer los cálculos de los exponentes de Feigenbaum, \\begin{eqnarray*} fn &=& \\frac{C_n-C{n+1}}{C{n+1}-C{n+2}},\\ an &=& \\frac{d_n}{d{n+1}}, \\end{eqnarray*}\n",
    "usando los valores $C_n$ donde se tienen ciclos superestables de periodo $2^n$. (Este ejercicio es muy parecido a los ejercicios 1 y 3 de la Tarea4.)"
   ]
  },
  {
   "cell_type": "code",
   "execution_count": 19,
   "metadata": {
    "collapsed": false
   },
   "outputs": [],
   "source": [
    "#;clear()"
   ]
  },
  {
   "cell_type": "code",
   "execution_count": 20,
   "metadata": {
    "collapsed": false
   },
   "outputs": [
    {
     "data": {
      "text/plain": [
       "Qc_p1 (generic function with 2 methods)"
      ]
     },
     "execution_count": 20,
     "metadata": {},
     "output_type": "execute_result"
    }
   ],
   "source": [
    "Qc_p1(x,c) = x^2 + c\n",
    "Qc_p1(x, args...) = !c(x, args[1])"
   ]
  },
  {
   "cell_type": "code",
   "execution_count": 21,
   "metadata": {
    "collapsed": false
   },
   "outputs": [
    {
     "data": {
      "text/plain": [
       "Qc_n (generic function with 1 method)"
      ]
     },
     "execution_count": 21,
     "metadata": {},
     "output_type": "execute_result"
    }
   ],
   "source": [
    "#Se utiliza la función del notebook para calcular la n-ésima iteración.\n",
    "function Qc_n(x, args)\n",
    "    c, n = args[1], args[2]\n",
    "    @assert n >= 0 && isa(n,Int)\n",
    "    n <= 1 && return Qc_p1(x,c)\n",
    "    for it = 1:n\n",
    "        x = Qc_p1(x,c)\n",
    "    end\n",
    "    return x\n",
    "end"
   ]
  },
  {
   "cell_type": "code",
   "execution_count": 22,
   "metadata": {
    "collapsed": false
   },
   "outputs": [],
   "source": [
    "using TaylorSeries"
   ]
  },
  {
   "cell_type": "code",
   "execution_count": 23,
   "metadata": {
    "collapsed": false
   },
   "outputs": [
    {
     "data": {
      "text/plain": [
       "roots_newton (generic function with 1 method)"
      ]
     },
     "execution_count": 23,
     "metadata": {},
     "output_type": "execute_result"
    }
   ],
   "source": [
    "#Se utiliza la función vista en el notebook para calcular las raices por el métod de Newton.\n",
    "function roots_newton(f, x0)\n",
    "    t = Taylor1(1)\n",
    "    for ind = 1:30\n",
    "       fT = f(x0+t)\n",
    "       x0 = x0 - fT.coeffs[1]/fT.coeffs[2]\n",
    "    end\n",
    "    x0\n",
    "end"
   ]
  },
  {
   "cell_type": "markdown",
   "metadata": {},
   "source": [
    "Se calculan las $C_n$'s correspondientes a las iteraciones $2^n$ de 'Qc'. "
   ]
  },
  {
   "cell_type": "code",
   "execution_count": 24,
   "metadata": {
    "collapsed": false
   },
   "outputs": [
    {
     "data": {
      "text/plain": [
       "0.0"
      ]
     },
     "execution_count": 24,
     "metadata": {},
     "output_type": "execute_result"
    }
   ],
   "source": [
    "Q1c = c -> Qc_n(0.0, (c, 1))\n",
    "C0 = roots_newton(Q1c, -1.4)"
   ]
  },
  {
   "cell_type": "code",
   "execution_count": 39,
   "metadata": {
    "collapsed": false
   },
   "outputs": [
    {
     "ename": "LoadError",
     "evalue": "LoadError: + not defined for TaylorSeries.Taylor1{Float64}\nwhile loading In[39], in expression starting on line 2",
     "output_type": "error",
     "traceback": [
      "LoadError: + not defined for TaylorSeries.Taylor1{Float64}\nwhile loading In[39], in expression starting on line 2",
      "",
      " in Qc_p1(::TaylorSeries.Taylor1{Float64}, ::TaylorSeries.Taylor1{Float64}) at ./In[20]:1",
      " in Qc_n(::Float64, ::Tuple{TaylorSeries.Taylor1{Float64},Int64}) at ./In[21]:7",
      " in roots_newton(::##18#19, ::Float64) at ./In[23]:5"
     ]
    }
   ],
   "source": [
    "Q2c = c -> Qc_n(0.0, (c, 2))\n",
    "C1 = roots_newton(Q2c, -1.0)"
   ]
  },
  {
   "cell_type": "code",
   "execution_count": 26,
   "metadata": {
    "collapsed": false
   },
   "outputs": [
    {
     "ename": "LoadError",
     "evalue": "LoadError: + not defined for TaylorSeries.Taylor1{Float64}\nwhile loading In[26], in expression starting on line 2",
     "output_type": "error",
     "traceback": [
      "LoadError: + not defined for TaylorSeries.Taylor1{Float64}\nwhile loading In[26], in expression starting on line 2",
      "",
      " in Qc_p1(::TaylorSeries.Taylor1{Float64}, ::TaylorSeries.Taylor1{Float64}) at ./In[20]:1",
      " in Qc_n(::Float64, ::Tuple{TaylorSeries.Taylor1{Float64},Int64}) at ./In[21]:7",
      " in roots_newton(::##6#7, ::Float64) at ./In[23]:5"
     ]
    }
   ],
   "source": [
    "Q4c = c -> Qc_n(0.0, (c, 4))\n",
    "C2 = roots_newton(Q4c, -1.4)"
   ]
  },
  {
   "cell_type": "code",
   "execution_count": 27,
   "metadata": {
    "collapsed": false
   },
   "outputs": [
    {
     "ename": "LoadError",
     "evalue": "LoadError: + not defined for TaylorSeries.Taylor1{Float64}\nwhile loading In[27], in expression starting on line 2",
     "output_type": "error",
     "traceback": [
      "LoadError: + not defined for TaylorSeries.Taylor1{Float64}\nwhile loading In[27], in expression starting on line 2",
      "",
      " in Qc_p1(::TaylorSeries.Taylor1{Float64}, ::TaylorSeries.Taylor1{Float64}) at ./In[20]:1",
      " in Qc_n(::Float64, ::Tuple{TaylorSeries.Taylor1{Float64},Int64}) at ./In[21]:7",
      " in roots_newton(::##8#9, ::Float64) at ./In[23]:5"
     ]
    }
   ],
   "source": [
    "Q8c = c -> Qc_n(0.0, (c, 8))\n",
    "C3 = roots_newton(Q8c, -1.4)"
   ]
  },
  {
   "cell_type": "code",
   "execution_count": 28,
   "metadata": {
    "collapsed": false
   },
   "outputs": [
    {
     "ename": "LoadError",
     "evalue": "LoadError: + not defined for TaylorSeries.Taylor1{Float64}\nwhile loading In[28], in expression starting on line 2",
     "output_type": "error",
     "traceback": [
      "LoadError: + not defined for TaylorSeries.Taylor1{Float64}\nwhile loading In[28], in expression starting on line 2",
      "",
      " in Qc_p1(::TaylorSeries.Taylor1{Float64}, ::TaylorSeries.Taylor1{Float64}) at ./In[20]:1",
      " in Qc_n(::Float64, ::Tuple{TaylorSeries.Taylor1{Float64},Int64}) at ./In[21]:7",
      " in roots_newton(::##10#11, ::Float64) at ./In[23]:5"
     ]
    }
   ],
   "source": [
    "Q16c = c -> Qc_n(0.0, (c, 16))\n",
    "C4 = roots_newton(Q16c, -1.4)"
   ]
  },
  {
   "cell_type": "code",
   "execution_count": 29,
   "metadata": {
    "collapsed": false
   },
   "outputs": [
    {
     "ename": "LoadError",
     "evalue": "LoadError: + not defined for TaylorSeries.Taylor1{Float64}\nwhile loading In[29], in expression starting on line 2",
     "output_type": "error",
     "traceback": [
      "LoadError: + not defined for TaylorSeries.Taylor1{Float64}\nwhile loading In[29], in expression starting on line 2",
      "",
      " in Qc_p1(::TaylorSeries.Taylor1{Float64}, ::TaylorSeries.Taylor1{Float64}) at ./In[20]:1",
      " in Qc_n(::Float64, ::Tuple{TaylorSeries.Taylor1{Float64},Int64}) at ./In[21]:7",
      " in roots_newton(::##12#13, ::Float64) at ./In[23]:5"
     ]
    }
   ],
   "source": [
    "Q32c = c -> Qc_n(0.0, (c, 32))\n",
    "C5 = roots_newton(Q32c, -1.4)"
   ]
  },
  {
   "cell_type": "code",
   "execution_count": 30,
   "metadata": {
    "collapsed": false
   },
   "outputs": [
    {
     "ename": "LoadError",
     "evalue": "LoadError: UndefVarError: C1 not defined\nwhile loading In[30], in expression starting on line 1",
     "output_type": "error",
     "traceback": [
      "LoadError: UndefVarError: C1 not defined\nwhile loading In[30], in expression starting on line 1",
      ""
     ]
    }
   ],
   "source": [
    "cs=[C0,C1,C2,C3,C4,C5]"
   ]
  },
  {
   "cell_type": "markdown",
   "metadata": {},
   "source": [
    "Se calculan las $f_{n}$."
   ]
  },
  {
   "cell_type": "code",
   "execution_count": 31,
   "metadata": {
    "collapsed": false
   },
   "outputs": [
    {
     "data": {
      "text/plain": [
       "fn (generic function with 1 method)"
      ]
     },
     "execution_count": 31,
     "metadata": {},
     "output_type": "execute_result"
    }
   ],
   "source": [
    "function fn(c::Array)\n",
    "    fn=Float64[]\n",
    "    for i in 1:length(cs)-2\n",
    "        x=(c[i]-c[i+1])/(c[i+1]-c[i+2])\n",
    "        push!(fn,x)\n",
    "    end\n",
    "    fn\n",
    "end"
   ]
  },
  {
   "cell_type": "code",
   "execution_count": 32,
   "metadata": {
    "collapsed": false
   },
   "outputs": [
    {
     "ename": "LoadError",
     "evalue": "LoadError: UndefVarError: cs not defined\nwhile loading In[32], in expression starting on line 1",
     "output_type": "error",
     "traceback": [
      "LoadError: UndefVarError: cs not defined\nwhile loading In[32], in expression starting on line 1",
      ""
     ]
    }
   ],
   "source": [
    "fn(cs)"
   ]
  },
  {
   "cell_type": "markdown",
   "metadata": {},
   "source": [
    "Vemos que los números $f_{n}$'s convergen al núemro de Feigenbaum $4.6692$"
   ]
  },
  {
   "cell_type": "markdown",
   "metadata": {},
   "source": [
    "Se utilza la función de la tarea4 para calcular las $d_{n}$'s."
   ]
  },
  {
   "cell_type": "code",
   "execution_count": 33,
   "metadata": {
    "collapsed": false
   },
   "outputs": [
    {
     "data": {
      "text/plain": [
       "d_n (generic function with 1 method)"
      ]
     },
     "execution_count": 33,
     "metadata": {},
     "output_type": "execute_result"
    }
   ],
   "source": [
    "function d_n(a::Array)\n",
    "    d=Float64[]\n",
    "    for i in 2:length(a)\n",
    "        y=minabs(deleteat!(iterandoando(x->Qc_p(x,a[i]),0.0,(2^(i-1))-1),1))\n",
    "        push!(d,y)\n",
    "    end\n",
    "    d\n",
    "end"
   ]
  },
  {
   "cell_type": "code",
   "execution_count": 34,
   "metadata": {
    "collapsed": false
   },
   "outputs": [
    {
     "ename": "LoadError",
     "evalue": "LoadError: UndefVarError: cs not defined\nwhile loading In[34], in expression starting on line 1",
     "output_type": "error",
     "traceback": [
      "LoadError: UndefVarError: cs not defined\nwhile loading In[34], in expression starting on line 1",
      ""
     ]
    }
   ],
   "source": [
    "d_n(cs)"
   ]
  },
  {
   "cell_type": "markdown",
   "metadata": {},
   "source": [
    "Se utilza la función de la tarea4 para calcular las $a_{n}$'s"
   ]
  },
  {
   "cell_type": "code",
   "execution_count": 35,
   "metadata": {
    "collapsed": false
   },
   "outputs": [
    {
     "data": {
      "text/plain": [
       "suc2 (generic function with 1 method)"
      ]
     },
     "execution_count": 35,
     "metadata": {},
     "output_type": "execute_result"
    }
   ],
   "source": [
    "function suc2(a::Array)\n",
    "    coc=Float64[]\n",
    "    for i in 1:length(a)-1\n",
    "        d=a[i]/a[i+1]\n",
    "        push!(coc,d)\n",
    "    end\n",
    "    coc\n",
    "end"
   ]
  },
  {
   "cell_type": "code",
   "execution_count": 36,
   "metadata": {
    "collapsed": false
   },
   "outputs": [
    {
     "ename": "LoadError",
     "evalue": "LoadError: UndefVarError: cs not defined\nwhile loading In[36], in expression starting on line 1",
     "output_type": "error",
     "traceback": [
      "LoadError: UndefVarError: cs not defined\nwhile loading In[36], in expression starting on line 1",
      ""
     ]
    }
   ],
   "source": [
    "suc2(d_n(cs))"
   ]
  },
  {
   "cell_type": "markdown",
   "metadata": {},
   "source": [
    "Se observa que la suseción converge a $2.5029$, el cual es la segunda constante de Feigenbaum."
   ]
  },
  {
   "cell_type": "markdown",
   "metadata": {},
   "source": [
    "\n",
    "## Ejercicio 3:\n",
    "Comparar gráficamente los mapeos $Q_{c}(x)$ y $Q_{c^\\prime}^2(x)$ para $c=1/4, 0, -3/4, -1, -2, -2.2$ y $c^\\prime=-3/4,-1,-5/4,-1.3, -1.546\\dots, -1.65$."
   ]
  },
  {
   "cell_type": "code",
   "execution_count": 37,
   "metadata": {
    "collapsed": false
   },
   "outputs": [
    {
     "data": {
      "text/plain": [
       "Qcⁿ (generic function with 1 method)"
      ]
     },
     "execution_count": 37,
     "metadata": {},
     "output_type": "execute_result"
    }
   ],
   "source": [
    "function Qcⁿ(x, args)\n",
    "    c, n = args[1], args[2]\n",
    "    @assert n >= 0 && isa(n,Int)\n",
    "    n <= 1 && return Qc_p(x,c)\n",
    "    for it = 1:n\n",
    "        x = Qc_p(x,c)\n",
    "    end\n",
    "    return x\n",
    "end"
   ]
  },
  {
   "cell_type": "code",
   "execution_count": 38,
   "metadata": {
    "collapsed": false
   },
   "outputs": [
    {
     "ename": "LoadError",
     "evalue": "LoadError: PyError (:PyObject_Call) <class 'ValueError'>\nValueError('x and y must have same first dimension',)\n  File \"/home/pablorv/anaconda3/lib/python3.5/site-packages/matplotlib/pyplot.py\", line 3154, in plot\n    ret = ax.plot(*args, **kwargs)\n  File \"/home/pablorv/anaconda3/lib/python3.5/site-packages/matplotlib/__init__.py\", line 1812, in inner\n    return func(ax, *args, **kwargs)\n  File \"/home/pablorv/anaconda3/lib/python3.5/site-packages/matplotlib/axes/_axes.py\", line 1424, in plot\n    for line in self._get_lines(*args, **kwargs):\n  File \"/home/pablorv/anaconda3/lib/python3.5/site-packages/matplotlib/axes/_base.py\", line 386, in _grab_next_args\n    for seg in self._plot_args(remaining, kwargs):\n  File \"/home/pablorv/anaconda3/lib/python3.5/site-packages/matplotlib/axes/_base.py\", line 364, in _plot_args\n    x, y = self._xy_from_xy(x, y)\n  File \"/home/pablorv/anaconda3/lib/python3.5/site-packages/matplotlib/axes/_base.py\", line 223, in _xy_from_xy\n    raise ValueError(\"x and y must have same first dimension\")\n\nwhile loading In[38], in expression starting on line 3",
     "output_type": "error",
     "traceback": [
      "LoadError: PyError (:PyObject_Call) <class 'ValueError'>\nValueError('x and y must have same first dimension',)\n  File \"/home/pablorv/anaconda3/lib/python3.5/site-packages/matplotlib/pyplot.py\", line 3154, in plot\n    ret = ax.plot(*args, **kwargs)\n  File \"/home/pablorv/anaconda3/lib/python3.5/site-packages/matplotlib/__init__.py\", line 1812, in inner\n    return func(ax, *args, **kwargs)\n  File \"/home/pablorv/anaconda3/lib/python3.5/site-packages/matplotlib/axes/_axes.py\", line 1424, in plot\n    for line in self._get_lines(*args, **kwargs):\n  File \"/home/pablorv/anaconda3/lib/python3.5/site-packages/matplotlib/axes/_base.py\", line 386, in _grab_next_args\n    for seg in self._plot_args(remaining, kwargs):\n  File \"/home/pablorv/anaconda3/lib/python3.5/site-packages/matplotlib/axes/_base.py\", line 364, in _plot_args\n    x, y = self._xy_from_xy(x, y)\n  File \"/home/pablorv/anaconda3/lib/python3.5/site-packages/matplotlib/axes/_base.py\", line 223, in _xy_from_xy\n    raise ValueError(\"x and y must have same first dimension\")\n\nwhile loading In[38], in expression starting on line 3",
      "",
      " in pyerr_check at /home/pablorv/.julia/v0.5/PyCall/src/exception.jl:56 [inlined]",
      " in pyerr_check at /home/pablorv/.julia/v0.5/PyCall/src/exception.jl:61 [inlined]",
      " in macro expansion at /home/pablorv/.julia/v0.5/PyCall/src/exception.jl:81 [inlined]",
      " in #_pycall#62(::Array{Any,1}, ::Function, ::PyCall.PyObject, ::FloatRange{Float64}, ::Vararg{Any,N}) at /home/pablorv/.julia/v0.5/PyCall/src/PyCall.jl:551",
      " in (::PyCall.#kw##_pycall)(::Array{Any,1}, ::PyCall.#_pycall, ::PyCall.PyObject, ::FloatRange{Float64}, ::Vararg{Any,N}) at ./<missing>:0",
      " in #pycall#66(::Array{Any,1}, ::Function, ::PyCall.PyObject, ::Type{PyCall.PyAny}, ::FloatRange{Float64}, ::Vararg{Any,N}) at /home/pablorv/.julia/v0.5/PyCall/src/PyCall.jl:568",
      " in (::PyCall.#kw##pycall)(::Array{Any,1}, ::PyCall.#pycall, ::PyCall.PyObject, ::Type{PyCall.PyAny}, ::FloatRange{Float64}, ::Vararg{Any,N}) at ./<missing>:0",
      " in #plot#85(::Array{Any,1}, ::Function, ::FloatRange{Float64}, ::Vararg{Any,N}) at /home/pablorv/.julia/v0.5/PyPlot/src/PyPlot.jl:399",
      " in (::PyPlot.#kw##plot)(::Array{Any,1}, ::PyPlot.#plot, ::FloatRange{Float64}, ::Vararg{Any,N}) at ./<missing>:0"
     ]
    }
   ],
   "source": [
    "cplot1 = Float64[0,-3/4, -1, -2, -2.2]\n",
    "xrange = -2:1/64:2\n",
    "plot(xrange, x->Qcⁿ(x, (1/4,1)), size=(500,500), label = \"c = 0.25\")\n",
    "for i in cplot1\n",
    "    plot!(xrange, x->Qcⁿ(x, (i,1)), label = \"c = $i\")\n",
    "end\n",
    "plot(xrange, identity, label = L\"Id(x)\")\n",
    "ylims(-3,2)\n",
    "xlabel(L\"x\")\n",
    "ylabel(L\"Q_c(x)\")\n",
    "title(L\"c = C_0\")"
   ]
  },
  {
   "cell_type": "code",
   "execution_count": null,
   "metadata": {
    "collapsed": true
   },
   "outputs": [],
   "source": []
  }
 ],
 "metadata": {
  "kernelspec": {
   "display_name": "Julia 0.5.0",
   "language": "julia",
   "name": "julia-0.5"
  },
  "language_info": {
   "file_extension": ".jl",
   "mimetype": "application/julia",
   "name": "julia",
   "version": "0.5.0"
  }
 },
 "nbformat": 4,
 "nbformat_minor": 0
}
