{
 "cells": [
  {
   "cell_type": "markdown",
   "metadata": {},
   "source": [
    "# Tarea 4\n"
   ]
  },
  {
   "cell_type": "code",
   "execution_count": 1,
   "metadata": {
    "collapsed": false,
    "scrolled": true
   },
   "outputs": [
    {
     "name": "stderr",
     "output_type": "stream",
     "text": [
      "INFO: Nothing to be done\n"
     ]
    }
   ],
   "source": [
    "Pkg.add(\"Roots\")"
   ]
  },
  {
   "cell_type": "code",
   "execution_count": 2,
   "metadata": {
    "collapsed": false
   },
   "outputs": [
    {
     "name": "stderr",
     "output_type": "stream",
     "text": [
      "INFO: Updating METADATA...\n",
      "INFO: Updating cache of DataFrames...\n",
      "INFO: Updating cache of DataFrames...\n",
      "INFO: Computing changes...\n",
      "INFO: No packages to install, update or remove\n"
     ]
    }
   ],
   "source": [
    "Pkg.update()"
   ]
  },
  {
   "cell_type": "code",
   "execution_count": 6,
   "metadata": {
    "collapsed": false,
    "scrolled": true
   },
   "outputs": [
    {
     "name": "stderr",
     "output_type": "stream",
     "text": [
      "INFO: Recompiling stale cache file /Users/FernandoJefte/.julia/lib/v0.4/ColorTypes.ji for module ColorTypes.\n",
      "INFO: Recompiling stale cache file /Users/FernandoJefte/.julia/lib/v0.4/PyPlot.ji for module PyPlot.\n",
      "INFO: Recompiling stale cache file /Users/FernandoJefte/.julia/lib/v0.4/Colors.ji for module Colors.\n",
      "INFO: Precompiling module Roots...\n",
      "INFO: Recompiling stale cache file /Users/FernandoJefte/.julia/lib/v0.4/NaNMath.ji for module NaNMath.\n",
      "INFO: Recompiling stale cache file /Users/FernandoJefte/.julia/lib/v0.4/ForwardDiff.ji for module ForwardDiff.\n",
      "INFO: Recompiling stale cache file /Users/FernandoJefte/.julia/lib/v0.4/Calculus.ji for module Calculus.\n"
     ]
    }
   ],
   "source": [
    "using PyPlot, Roots\n",
    "include(\"AutomDiff_V2.jl\")\n",
    "import AD: Dual, xdual"
   ]
  },
  {
   "cell_type": "code",
   "execution_count": 7,
   "metadata": {
    "collapsed": false,
    "scrolled": false
   },
   "outputs": [
    {
     "name": "stderr",
     "output_type": "stream",
     "text": [
      "WARNING: replacing module AD\n"
     ]
    },
    {
     "data": {
      "text/plain": [
       "AD"
      ]
     },
     "execution_count": 7,
     "metadata": {},
     "output_type": "execute_result"
    }
   ],
   "source": [
    "include(\"AutomDiff_V2.jl\")"
   ]
  },
  {
   "cell_type": "code",
   "execution_count": 8,
   "metadata": {
    "collapsed": false,
    "scrolled": true
   },
   "outputs": [
    {
     "name": "stderr",
     "output_type": "stream",
     "text": [
      "WARNING: ignoring conflicting import of AD.Dual into Main\n",
      "WARNING: ignoring conflicting import of AD.xdual into Main\n"
     ]
    }
   ],
   "source": [
    "import AD: Dual, xdual"
   ]
  },
  {
   "cell_type": "markdown",
   "metadata": {},
   "source": [
    "\n",
    "## Ejercicio 0: Velocidad de convergencia. \\\\\n",
    "\n",
    "\n",
    "El objetivo de este ejercicio es relacionar, la velocidad de convergencia con que un punto fijo (o una órbita periódica, en el caso de los dos últimos incisos) atraen a puntos suficientemente cercanos, con la derivada del mapeo en el punto fijo (o ciclo periódico). La idea es, entonces, calcular primero el punto fijo y, después, medir cómo la distancia de los iterados sucesivos (de una condición inicial $x_0$) al punto fijo se comporta en el tiempo, para los siguientes mapeos:\n",
    "$F(x) = x^2+0.25$ \\\\\n",
    "$F(x) = 3x(1-x)$ \\\\\n",
    "$F(x) = \\exp(x-1)$ \\\\\n",
    "$F(x) = x^2 - 1.25$ \\\\\n",
    "$F(x) = \\exp(x+1)$ \\\\\n",
    "\n",
    "Deberán resolver algunas cosas intermedias. Por ejemplo, ¿qué tanto deben acercarse al punto fijo, a fin de evitar ruido numérico? ¿Qué hay que hacer en el caso en que el punto sea neutral (ni atractivo ni repulsivo)?\n",
    "En los dos últimos incisos, el interés es en los ciclos de periodo 2.\n"
   ]
  },
  {
   "cell_type": "markdown",
   "metadata": {},
   "source": [
    "En este problema las funciones a utilizar son:"
   ]
  },
  {
   "cell_type": "code",
   "execution_count": 6,
   "metadata": {
    "collapsed": false
   },
   "outputs": [
    {
     "data": {
      "text/plain": [
       "f5prim (generic function with 1 method)"
      ]
     },
     "execution_count": 6,
     "metadata": {},
     "output_type": "execute_result"
    }
   ],
   "source": [
    "f1(x) = x^2 + 0.25\n",
    "f2(x) = 3x*(1 - x)\n",
    "f3(x) = exp(x - 1)\n",
    "f4(x) = x^2 - 1.25\n",
    "f42(x)= (x^2-1.25)^2-1.25\n",
    "f5(x) = exp(1-x)\n",
    "f52(x)= exp(1-(exp(1-x)))\n",
    "f1prim(x)=2x\n",
    "f2prim(x)=3-6x\n",
    "f3prim(x)=exp(x-1)\n",
    "f4prim(x)=2x\n",
    "f5prim(x)=-exp(1-x)"
   ]
  },
  {
   "cell_type": "markdown",
   "metadata": {},
   "source": [
    "Para buscar los puntos fijos, usemos una función que calcule los ceros de las funciones fi-x."
   ]
  },
  {
   "cell_type": "code",
   "execution_count": 7,
   "metadata": {
    "collapsed": false
   },
   "outputs": [
    {
     "data": {
      "text/plain": [
       "resuelve_cuad (generic function with 1 method)"
      ]
     },
     "execution_count": 7,
     "metadata": {},
     "output_type": "execute_result"
    }
   ],
   "source": [
    "function quadratic{T<:Real}(a::T, b::T, c::T)\n",
    "    disc = b^2 - 4*a*c #Calculamos el valor del discriminante\n",
    "    @assert a != 0 \"Tu ecuación no es de segundo grado, revisa los argumentos.\", disc < 0 \n",
    "    \"La ecuación tiene soluciones complejas, no es posible resolver la ecuación.\"\n",
    "    resuelve_cuad(a,b,c, disc)\n",
    "end\n",
    "\n",
    "function resuelve_cuad(a, b, c, disc) #El algoritmo para encontrar las raíces\n",
    "    sq = sqrt(disc)\n",
    "    x1 = (-b+sq)/(2a)\n",
    "    x2 = (-b-sq)/(2a)\n",
    "    if x1 == x2\n",
    "        raices = Float64[x1]\n",
    "    else\n",
    "        raices = typeof(x1)[x1,x2]\n",
    "    end\n",
    "    return raices\n",
    "end"
   ]
  },
  {
   "cell_type": "markdown",
   "metadata": {},
   "source": [
    "Ahora hagamos una función que encuentre las distancias entre los iterados y los puntos fijos. Notemos que debemos variar\n",
    "la condición inicial según el punto fijo encontrado previamente, pues algunos son atractores y otros repulsores."
   ]
  },
  {
   "cell_type": "code",
   "execution_count": 8,
   "metadata": {
    "collapsed": false
   },
   "outputs": [
    {
     "data": {
      "text/plain": [
       "distancia (generic function with 1 method)"
      ]
     },
     "execution_count": 8,
     "metadata": {},
     "output_type": "execute_result"
    }
   ],
   "source": [
    "function distancia{r<:Real, rs<:Real}(F::Function, x0::r, pfijos::Array{rs,1}, n)\n",
    "    long = length(pfijos)\n",
    "    dist= zeros(Float64, n, long)\n",
    "    for j in 1:long\n",
    "        pf = pfijos[j]\n",
    "        it = copy(x0)\n",
    "        for i in 1:n\n",
    "            it = F(it)\n",
    "           dist[i, j] = abs(it - pf)\n",
    "        end\n",
    "    end\n",
    "    return dist\n",
    "end"
   ]
  },
  {
   "cell_type": "markdown",
   "metadata": {},
   "source": [
    "Con las funciones creadas, resolvamos el ejercicio."
   ]
  },
  {
   "cell_type": "markdown",
   "metadata": {},
   "source": [
    "## Para $f_1$"
   ]
  },
  {
   "cell_type": "code",
   "execution_count": 9,
   "metadata": {
    "collapsed": false
   },
   "outputs": [
    {
     "data": {
      "text/plain": [
       "1-element Array{Float64,1}:\n",
       " 0.5"
      ]
     },
     "execution_count": 9,
     "metadata": {},
     "output_type": "execute_result"
    }
   ],
   "source": [
    "pf1= quadratic(1.0,-1.0,0.25)"
   ]
  },
  {
   "cell_type": "code",
   "execution_count": 10,
   "metadata": {
    "collapsed": false,
    "scrolled": false
   },
   "outputs": [
    {
     "data": {
      "image/png": "[encoded data removed]",
      "text/plain": [
       "PyPlot.Figure(PyObject <matplotlib.figure.Figure object at 0x7fd5165a6ef0>)"
      ]
     },
     "metadata": {},
     "output_type": "display_data"
    }
   ],
   "source": [
    "figure(figsize = (4, 4))\n",
    "gpf1 = distancia(f1, 0.4999, pf1, 1000000);\n",
    "d1 = reshape(gpf1, 1000000)\n",
    "loglog(d1)\n",
    "title(L\"Convergencia para $x_0 = 0.4999$\")\n",
    "xlabel(L\"Iteración-n\")\n",
    "ylabel(L\"|F_1^n(x_0) - 0.5|\")\n",
    "show()"
   ]
  },
  {
   "cell_type": "markdown",
   "metadata": {},
   "source": [
    "Calculemos la velocidad de convergencia al realizar una regresión lineal de la grafica loglog de nuestros datos , con \n",
    "los valores de las distancias en función del número de iteración."
   ]
  },
  {
   "cell_type": "code",
   "execution_count": 11,
   "metadata": {
    "collapsed": false
   },
   "outputs": [
    {
     "ename": "InterruptException",
     "evalue": "InterruptException:",
     "output_type": "error",
     "traceback": [
      "InterruptException:",
      "",
      " in #_pycall#62(::Array{Any,1}, ::Function, ::PyCall.PyObject, ::IOContext{Base64EncodePipe}, ::Vararg{IOContext{Base64EncodePipe},N}) at /home/pablorv/.julia/v0.5/PyCall/src/PyCall.jl:556",
      " in (::PyCall.#kw##_pycall)(::Array{Any,1}, ::PyCall.#_pycall, ::PyCall.PyObject, ::IOContext{Base64EncodePipe}, ::Vararg{IOContext{Base64EncodePipe},N}) at ./<missing>:0",
      " in #pycall#66(::Array{Any,1}, ::Function, ::PyCall.PyObject, ::Type{PyCall.PyAny}, ::IOContext{Base64EncodePipe}, ::Vararg{IOContext{Base64EncodePipe},N}) at /home/pablorv/.julia/v0.5/PyCall/src/PyCall.jl:568",
      " in (::PyCall.#kw##pycall)(::Array{Any,1}, ::PyCall.#pycall, ::PyCall.PyObject, ::Type{PyCall.PyAny}, ::IOContext{Base64EncodePipe}, ::Vararg{IOContext{Base64EncodePipe},N}) at ./<missing>:0",
      " in #call#67(::Array{Any,1}, ::PyCall.PyObject, ::IOContext{Base64EncodePipe}, ::Vararg{IOContext{Base64EncodePipe},N}) at /home/pablorv/.julia/v0.5/PyCall/src/PyCall.jl:571",
      " in (::PyCall.#kw#PyObject)(::Array{Any,1}, ::PyCall.PyObject, ::IOContext{Base64EncodePipe}, ::Vararg{IOContext{Base64EncodePipe},N}) at ./<missing>:0",
      " in show(::IOContext{Base64EncodePipe}, ::MIME{Symbol(\"image/png\")}, ::PyPlot.Figure) at /home/pablorv/.julia/v0.5/PyPlot/src/PyPlot.jl:306",
      " in limitstringmime(::MIME{Symbol(\"image/png\")}, ::PyPlot.Figure) at /home/pablorv/.julia/v0.5/IJulia/src/execute_request.jl:34",
      " in display_dict(::PyPlot.Figure) at /home/pablorv/.julia/v0.5/IJulia/src/execute_request.jl:51",
      " in display(::IJulia.InlineDisplay, ::PyPlot.Figure) at /home/pablorv/.julia/v0.5/IJulia/src/inline.jl:31",
      " in display(::PyPlot.Figure) at ./multimedia.jl:143",
      " in display_figs() at /home/pablorv/.julia/v0.5/PyPlot/src/PyPlot.jl:342",
      " in execute_request(::ZMQ.Socket, ::IJulia.Msg) at /home/pablorv/.julia/v0.5/IJulia/src/execute_request.jl:188",
      " in eventloop(::ZMQ.Socket) at /home/pablorv/.julia/v0.5/IJulia/src/eventloop.jl:8",
      " in (::IJulia.##9#15)() at ./task.jl:360"
     ]
    }
   ],
   "source": [
    "figure(figsize = (5,5))\n",
    "dom1 = collect(1:1000000)\n",
    "a1, b1 = linreg(log(dom1), log(d1))\n",
    "ran1 = Float64[exp(a1)*x^b1 for x in dom1]\n",
    "loglog(d1, \".\", label = \"Datos\")\n",
    "loglog(dom1, ran1, label = \"V(n) = $(exp(a1))*n^$b1\")\n",
    "legend(fontsize = 8, loc = \"auto\")\n",
    "title(L\"Convergencia para $x_0 = 0.4999$\")\n",
    "xlabel(L\"Iteración $n$\")\n",
    "ylabel(L\"|F_1^n(x_0) - 0.5|\")\n",
    "show()"
   ]
  },
  {
   "cell_type": "markdown",
   "metadata": {},
   "source": [
    "Según la aproximación obtenida, después de $10^3$ iteraciones, la velocidad de convergencia es : $V(n) \\approx \\frac{0.198}{n}$\n"
   ]
  },
  {
   "cell_type": "markdown",
   "metadata": {},
   "source": [
    "Observamos que para un punto inicial cercano al punto fijo, la velocidad de convergencia es muy baja, pues necesitamos \n",
    "más de $10^3$ iteraciones para evitar el ruido numérico y notar que la distancia disminuye.\n",
    "Probemos qué pasa con una condición inicial mayor que el punto fijo para determinar su naturaleza."
   ]
  },
  {
   "cell_type": "code",
   "execution_count": 12,
   "metadata": {
    "collapsed": false
   },
   "outputs": [
    {
     "data": {
      "image/png": "[encoded data removed]",
      "text/plain": [
       "PyPlot.Figure(PyObject <matplotlib.figure.Figure object at 0x7fd4f9184e80>)"
      ]
     },
     "metadata": {},
     "output_type": "display_data"
    }
   ],
   "source": [
    "figure(figsize = (4, 4))\n",
    "gpf1 = distancia(f1, 0.5555, pf1, 1000000);\n",
    "d1 = reshape(gpf1, 1000000)\n",
    "loglog(d1)\n",
    "title(L\"Divergencia para $x_0 = 0.5555$\")\n",
    "xlabel(L\"Iteración-n\")\n",
    "ylabel(L\"|F_1^n(x_0) - 0.5|\")\n",
    "show()"
   ]
  },
  {
   "cell_type": "markdown",
   "metadata": {},
   "source": [
    "Aquí notamos que se necesitan menos de 10 iteraciones para que la distancia aumente por dos órdenes de magnitud.\n",
    "Por lo que concluimos que es un punto fijo repulsor,pues su convergencia es muy lenta."
   ]
  },
  {
   "cell_type": "markdown",
   "metadata": {},
   "source": [
    "Para finalizar el análisis, obtengamos la derivada de la función en el punto fijo:"
   ]
  },
  {
   "cell_type": "code",
   "execution_count": 13,
   "metadata": {
    "collapsed": false
   },
   "outputs": [
    {
     "data": {
      "text/plain": [
       "AD.Dual{Float64}(0.5,1.0)"
      ]
     },
     "execution_count": 13,
     "metadata": {},
     "output_type": "execute_result"
    }
   ],
   "source": [
    "deripf1 = xdual(0.5)\n",
    "f1(deripf1)"
   ]
  },
  {
   "cell_type": "markdown",
   "metadata": {},
   "source": [
    "## Para $f_2$"
   ]
  },
  {
   "cell_type": "code",
   "execution_count": 14,
   "metadata": {
    "collapsed": false,
    "scrolled": true
   },
   "outputs": [
    {
     "data": {
      "text/plain": [
       "2-element Array{Float64,1}:\n",
       " -0.0     \n",
       "  0.666667"
      ]
     },
     "execution_count": 14,
     "metadata": {},
     "output_type": "execute_result"
    }
   ],
   "source": [
    "pf2=quadratic(-3.0,2.0,0.0)"
   ]
  },
  {
   "cell_type": "markdown",
   "metadata": {},
   "source": [
    "Utilizando el mismo método que en la función anterior, probemos con condiciones iniciales menores y mayores que el punto\n",
    "fijo."
   ]
  },
  {
   "cell_type": "code",
   "execution_count": 15,
   "metadata": {
    "collapsed": false
   },
   "outputs": [
    {
     "data": {
      "image/png": "[encoded data removed]",
      "text/plain": [
       "PyPlot.Figure(PyObject <matplotlib.figure.Figure object at 0x7fd4f9187d30>)"
      ]
     },
     "metadata": {},
     "output_type": "display_data"
    }
   ],
   "source": [
    "figure(figsize = (5, 5))\n",
    "gr2 = distancia(f2,0.4, pf2, 1000000)\n",
    "d2 = reshape(gr2[:,2],1000000)\n",
    "loglog(d1)\n",
    "title(L\"Convergencia para $x_0 =0.4$\")\n",
    "xlabel(L\"Iteración-n\")\n",
    "ylabel(L\"|F_2^n(x_0) - 0.666|\")\n",
    "show()\n"
   ]
  },
  {
   "cell_type": "markdown",
   "metadata": {},
   "source": []
  },
  {
   "cell_type": "code",
   "execution_count": 16,
   "metadata": {
    "collapsed": false
   },
   "outputs": [
    {
     "data": {
      "image/png": "[encoded data removed]",
      "text/plain": [
       "PyPlot.Figure(PyObject <matplotlib.figure.Figure object at 0x7fd4fb1df630>)"
      ]
     },
     "metadata": {},
     "output_type": "display_data"
    }
   ],
   "source": [
    "figure(figsize = (4,4))\n",
    "dom1 = collect(1:1000000)\n",
    "a1, b1 = linreg(log(dom1), log(d2))\n",
    "ran1 = Float64[exp(a1)*x^b1 for x in dom1]\n",
    "loglog(d2, \".\", label = \"Datos\")\n",
    "loglog(dom1, ran1, label = \"V(n) = $(exp(a1))*n^$b1\")\n",
    "legend(fontsize = 8, loc = \"auto\")\n",
    "title(L\"Convergencia para $x_0 = 0.4$\")\n",
    "xlabel(L\"Iteración $n$\")\n",
    "ylabel(L\"|F_1^n(x_0) - 0.666|\")\n",
    "show()"
   ]
  },
  {
   "cell_type": "markdown",
   "metadata": {},
   "source": [
    "En este caso la velocidad de convergencia está dada por: $ V(n)  \\approx \\frac{0.2339}{\\sqrt{n}} $"
   ]
  },
  {
   "cell_type": "markdown",
   "metadata": {},
   "source": [
    "Probemos ahora para una condición inicial mayor que el punto fijo"
   ]
  },
  {
   "cell_type": "code",
   "execution_count": 17,
   "metadata": {
    "collapsed": false
   },
   "outputs": [
    {
     "data": {
      "image/png": "[encoded data removed]",
      "text/plain": [
       "PyPlot.Figure(PyObject <matplotlib.figure.Figure object at 0x7fd4f912d278>)"
      ]
     },
     "metadata": {},
     "output_type": "display_data"
    }
   ],
   "source": [
    "figure(figsize = (5, 5))\n",
    "gr2 = distancia(f2,0.7, pf2, 1000000)\n",
    "d2 = reshape(gr2[:,2],1000000)\n",
    "loglog(d1)\n",
    "title(L\"Convergencia para $x_0 =0.7$\")\n",
    "xlabel(L\"Iteración-n\")\n",
    "ylabel(L\"|F_2^n(x_0) - 0.666|\")\n",
    "show()"
   ]
  },
  {
   "cell_type": "code",
   "execution_count": 18,
   "metadata": {
    "collapsed": false
   },
   "outputs": [
    {
     "data": {
      "image/png": "[encoded data removed]",
      "text/plain": [
       "PyPlot.Figure(PyObject <matplotlib.figure.Figure object at 0x7fd4fe7533c8>)"
      ]
     },
     "metadata": {},
     "output_type": "display_data"
    }
   ],
   "source": [
    "figure(figsize = (4,4))\n",
    "dom1 = collect(1:1000000)\n",
    "a1, b1 = linreg(log(dom1), log(d2))\n",
    "ran1 = Float64[exp(a1)*x^b1 for x in dom1]\n",
    "loglog(d2, \".\", label = \"Datos\")\n",
    "loglog(dom1, ran1, label = \"V(n) = $(exp(a1))*n^$b1\")\n",
    "legend(fontsize = 8, loc = \"auto\")\n",
    "title(L\"Convergencia para $x_0 = 0.7$\")\n",
    "xlabel(L\"Iteración $n$\")\n",
    "ylabel(L\"|F_1^n(x_0) - 0.666|\")\n",
    "show()"
   ]
  },
  {
   "cell_type": "markdown",
   "metadata": {},
   "source": [
    "En este caso la velocidad de convergencia está dada por: $ V(n)  \\approx \\frac{0.2319}{\\sqrt{n}} $"
   ]
  },
  {
   "cell_type": "markdown",
   "metadata": {},
   "source": [
    "Por lo que concluimos que se trata de un punto fijo atractor, y la derivada de la función en ese punto es: "
   ]
  },
  {
   "cell_type": "markdown",
   "metadata": {},
   "source": [
    "Ahora hagamos el mismo análisis para el punto fijo 0"
   ]
  },
  {
   "cell_type": "code",
   "execution_count": 19,
   "metadata": {
    "collapsed": false
   },
   "outputs": [
    {
     "data": {
      "image/png": "[encoded data removed]",
      "text/plain": [
       "PyPlot.Figure(PyObject <matplotlib.figure.Figure object at 0x7fd4fe745828>)"
      ]
     },
     "metadata": {},
     "output_type": "display_data"
    }
   ],
   "source": [
    "figure(figsize = (5, 5))\n",
    "gr2 = distancia(f2,-0.4, pf2, 1000000)\n",
    "d2 = reshape(gr2[:,1],1000000)\n",
    "loglog(d1)\n",
    "title(L\"Divergencia para $x_0 =-0.4$\")\n",
    "xlabel(L\"Iteración-n\")\n",
    "ylabel(L\"|F_2^n(x_0)|\")\n",
    "show()"
   ]
  },
  {
   "cell_type": "markdown",
   "metadata": {},
   "source": [
    "Ahora para un valor a la derecha del punto fijo."
   ]
  },
  {
   "cell_type": "code",
   "execution_count": 20,
   "metadata": {
    "collapsed": false
   },
   "outputs": [
    {
     "data": {
      "image/png": "[encoded data removed]",
      "text/plain": [
       "PyPlot.Figure(PyObject <matplotlib.figure.Figure object at 0x7fd4f941bcc0>)"
      ]
     },
     "metadata": {},
     "output_type": "display_data"
    }
   ],
   "source": [
    "figure(figsize = (5, 5))\n",
    "gr2 = distancia(f2,0.4, pf2, 1000000)\n",
    "d2 = reshape(gr2[:,1],1000000)\n",
    "loglog(d1)\n",
    "title(L\"Divergencia para $x_0 =0.4$\")\n",
    "xlabel(L\"Iteración-n\")\n",
    "ylabel(L\"|F_2^n(x_0)|\")\n",
    "show()"
   ]
  },
  {
   "cell_type": "markdown",
   "metadata": {},
   "source": [
    "En ambos casos observamos que es un punto fijo repulsor. Obtengamos la derivada en ambos puntos fijos."
   ]
  },
  {
   "cell_type": "code",
   "execution_count": 21,
   "metadata": {
    "collapsed": false
   },
   "outputs": [
    {
     "data": {
      "text/plain": [
       "([-0.0,0.666667],[3.0,-1.0])"
      ]
     },
     "execution_count": 21,
     "metadata": {},
     "output_type": "execute_result"
    }
   ],
   "source": [
    "deripf2 = Float64[]\n",
    "\n",
    "for j in pf2\n",
    "    x0 = xdual(j)\n",
    "    push!(deripf2, f2(x0).der)\n",
    "end\n",
    "pf2, deripf2"
   ]
  },
  {
   "cell_type": "markdown",
   "metadata": {},
   "source": [
    "Tenemos que para el punto fijo repulsor la derivada es $>1$ mientras que para el atractor es $<1$"
   ]
  },
  {
   "cell_type": "markdown",
   "metadata": {},
   "source": [
    "## Para $ f_3$"
   ]
  },
  {
   "cell_type": "markdown",
   "metadata": {},
   "source": [
    "Los puntos fijos de la función son los que cumplen la ecuación: "
   ]
  },
  {
   "cell_type": "markdown",
   "metadata": {},
   "source": [
    "$e^{x-1}-x=0$"
   ]
  },
  {
   "cell_type": "markdown",
   "metadata": {},
   "source": [
    "Obteniendo el logaritmo de ambos lados:"
   ]
  },
  {
   "cell_type": "markdown",
   "metadata": {},
   "source": [
    "$x-ln(x)=1$"
   ]
  },
  {
   "cell_type": "markdown",
   "metadata": {},
   "source": [
    "Que sólo se cumple para $ x=1$"
   ]
  },
  {
   "cell_type": "markdown",
   "metadata": {},
   "source": [
    "Hagamos el análisis ya habitual:"
   ]
  },
  {
   "cell_type": "code",
   "execution_count": 22,
   "metadata": {
    "collapsed": false
   },
   "outputs": [
    {
     "data": {
      "text/plain": [
       "1-element Array{Float64,1}:\n",
       " 1.0"
      ]
     },
     "execution_count": 22,
     "metadata": {},
     "output_type": "execute_result"
    }
   ],
   "source": [
    "pf3=[1.0]"
   ]
  },
  {
   "cell_type": "code",
   "execution_count": 23,
   "metadata": {
    "collapsed": false
   },
   "outputs": [
    {
     "data": {
      "image/png": "[encoded data removed]",
      "text/plain": [
       "PyPlot.Figure(PyObject <matplotlib.figure.Figure object at 0x7fd4fe8fc278>)"
      ]
     },
     "metadata": {},
     "output_type": "display_data"
    }
   ],
   "source": [
    "figure(figsize = (4, 4))\n",
    "gpf3 = distancia(f3, 0.9, pf3, 1000000);\n",
    "d3 = reshape(gpf3, 1000000)\n",
    "loglog(d3)\n",
    "title(L\"Convergencia para $x_0 = 0.9$\")\n",
    "xlabel(L\"Iteración-n\")\n",
    "ylabel(L\"|F_1^n(x_0) - 1.0|\")\n",
    "show()"
   ]
  },
  {
   "cell_type": "code",
   "execution_count": 24,
   "metadata": {
    "collapsed": false
   },
   "outputs": [
    {
     "ename": "InterruptException",
     "evalue": "InterruptException:",
     "output_type": "error",
     "traceback": [
      "InterruptException:",
      "",
      " in #_pycall#62(::Array{Any,1}, ::Function, ::PyCall.PyObject, ::IOContext{Base64EncodePipe}, ::Vararg{IOContext{Base64EncodePipe},N}) at /home/pablorv/.julia/v0.5/PyCall/src/PyCall.jl:556",
      " in (::PyCall.#kw##_pycall)(::Array{Any,1}, ::PyCall.#_pycall, ::PyCall.PyObject, ::IOContext{Base64EncodePipe}, ::Vararg{IOContext{Base64EncodePipe},N}) at ./<missing>:0",
      " in #pycall#66(::Array{Any,1}, ::Function, ::PyCall.PyObject, ::Type{PyCall.PyAny}, ::IOContext{Base64EncodePipe}, ::Vararg{IOContext{Base64EncodePipe},N}) at /home/pablorv/.julia/v0.5/PyCall/src/PyCall.jl:568",
      " in (::PyCall.#kw##pycall)(::Array{Any,1}, ::PyCall.#pycall, ::PyCall.PyObject, ::Type{PyCall.PyAny}, ::IOContext{Base64EncodePipe}, ::Vararg{IOContext{Base64EncodePipe},N}) at ./<missing>:0",
      " in #call#67(::Array{Any,1}, ::PyCall.PyObject, ::IOContext{Base64EncodePipe}, ::Vararg{IOContext{Base64EncodePipe},N}) at /home/pablorv/.julia/v0.5/PyCall/src/PyCall.jl:571",
      " in (::PyCall.#kw#PyObject)(::Array{Any,1}, ::PyCall.PyObject, ::IOContext{Base64EncodePipe}, ::Vararg{IOContext{Base64EncodePipe},N}) at ./<missing>:0",
      " in show(::IOContext{Base64EncodePipe}, ::MIME{Symbol(\"image/png\")}, ::PyPlot.Figure) at /home/pablorv/.julia/v0.5/PyPlot/src/PyPlot.jl:306",
      " in limitstringmime(::MIME{Symbol(\"image/png\")}, ::PyPlot.Figure) at /home/pablorv/.julia/v0.5/IJulia/src/execute_request.jl:34",
      " in display_dict(::PyPlot.Figure) at /home/pablorv/.julia/v0.5/IJulia/src/execute_request.jl:51",
      " in display(::IJulia.InlineDisplay, ::PyPlot.Figure) at /home/pablorv/.julia/v0.5/IJulia/src/inline.jl:31",
      " in display(::PyPlot.Figure) at ./multimedia.jl:143",
      " in display_figs() at /home/pablorv/.julia/v0.5/PyPlot/src/PyPlot.jl:342",
      " in execute_request(::ZMQ.Socket, ::IJulia.Msg) at /home/pablorv/.julia/v0.5/IJulia/src/execute_request.jl:188",
      " in eventloop(::ZMQ.Socket) at /home/pablorv/.julia/v0.5/IJulia/src/eventloop.jl:8",
      " in (::IJulia.##9#15)() at ./task.jl:360"
     ]
    }
   ],
   "source": [
    "figure(figsize = (4,4))\n",
    "dom1 = collect(1:1000000)\n",
    "a1, b1 = linreg(log(dom1), log(d3))\n",
    "ran1 = Float64[exp(a1)*x^b1 for x in dom1]\n",
    "loglog(d3, \".\", label = \"Datos\")\n",
    "loglog(dom1, ran1, label = \"V(n) = $(exp(a1))*n^$b1\")\n",
    "legend(fontsize = 8, loc = \"auto\")\n",
    "title(L\"Convergencia para $x_0 = 0.9$\")\n",
    "xlabel(L\"Iteración $n$\")\n",
    "ylabel(L\"|F_1^n(x_0) - 1.0|\")\n",
    "show()"
   ]
  },
  {
   "cell_type": "markdown",
   "metadata": {},
   "source": [
    "En este caso la velocidad de convergencia es de $V(n) \\approx \\frac{1.968}{n}$"
   ]
  },
  {
   "cell_type": "code",
   "execution_count": 25,
   "metadata": {
    "collapsed": false
   },
   "outputs": [
    {
     "data": {
      "image/png": "[encoded data removed]",
      "text/plain": [
       "PyPlot.Figure(PyObject <matplotlib.figure.Figure object at 0x7fd4fe75e630>)"
      ]
     },
     "metadata": {},
     "output_type": "display_data"
    }
   ],
   "source": [
    "figure(figsize = (4, 4))\n",
    "gpf3 = distancia(f3, 1.2, pf3, 1000000);\n",
    "d3 = reshape(gpf3, 1000000)\n",
    "loglog(d3)\n",
    "title(L\"Convergencia para $x_0 = 1.9$\")\n",
    "xlabel(L\"Iteración-n\")\n",
    "ylabel(L\"|F_1^n(x_0) - 1.0|\")\n",
    "show()"
   ]
  },
  {
   "cell_type": "markdown",
   "metadata": {},
   "source": [
    "Análogamente a la primer función, observamos que se trata de un punto fijo repulsor. Calculemos la derivada:"
   ]
  },
  {
   "cell_type": "code",
   "execution_count": 26,
   "metadata": {
    "collapsed": false
   },
   "outputs": [
    {
     "data": {
      "text/plain": [
       "AD.Dual{Float64}(1.0,1.0)"
      ]
     },
     "execution_count": 26,
     "metadata": {},
     "output_type": "execute_result"
    }
   ],
   "source": [
    "deri3 = xdual(1.0)\n",
    "f3(deri3)"
   ]
  },
  {
   "cell_type": "markdown",
   "metadata": {},
   "source": [
    "Coincide también con el valor 1.0"
   ]
  },
  {
   "cell_type": "markdown",
   "metadata": {},
   "source": [
    "## Para $f_{4}^2$"
   ]
  },
  {
   "cell_type": "markdown",
   "metadata": {},
   "source": [
    "En este caso, debemos implementar otro método para calcular los puntos fijos, pues estamos interesados en los ciclos\n",
    "de periodo 2."
   ]
  },
  {
   "cell_type": "code",
   "execution_count": 27,
   "metadata": {
    "collapsed": false,
    "scrolled": true
   },
   "outputs": [
    {
     "data": {
      "text/plain": [
       "puntofijo (generic function with 1 method)"
      ]
     },
     "execution_count": 27,
     "metadata": {},
     "output_type": "execute_result"
    }
   ],
   "source": [
    "function puntofijo(F::Function, range)\n",
    "    pf= fzeros(x -> (F(x) - x) , range)\n",
    "    return pf\n",
    "end"
   ]
  },
  {
   "cell_type": "code",
   "execution_count": null,
   "metadata": {
    "collapsed": false,
    "scrolled": true
   },
   "outputs": [],
   "source": [
    "pf41=puntofijo(f42,[-2.0,2.0])"
   ]
  },
  {
   "cell_type": "markdown",
   "metadata": {},
   "source": [
    "Escojemos los que tienen ciclo de periodo 2:"
   ]
  },
  {
   "cell_type": "code",
   "execution_count": null,
   "metadata": {
    "collapsed": false
   },
   "outputs": [],
   "source": [
    "pf42 = [pf41[1], pf41[3]]"
   ]
  },
  {
   "cell_type": "code",
   "execution_count": null,
   "metadata": {
    "collapsed": false
   },
   "outputs": [],
   "source": [
    "figure(figsize = (5, 5))\n",
    "gpf4 = distancia(f42,-1.25, pf42, 1000000)\n",
    "d4 = reshape(gpf4[:,1],1000000)\n",
    "loglog(d4)\n",
    "title(L\"Convergencia para $x_0 =0.4$\")\n",
    "xlabel(L\"Iteración-n\")\n",
    "ylabel(L\"|F_2^n(x_0) + 1.20711|\")\n",
    "show()\n"
   ]
  },
  {
   "cell_type": "code",
   "execution_count": null,
   "metadata": {
    "collapsed": false
   },
   "outputs": [],
   "source": [
    "figure(figsize = (4,4))\n",
    "dom1 = collect(1:1000000)\n",
    "a1, b1 = linreg(log(dom1), log(d4))\n",
    "ran1 = Float64[exp(a1)*x^b1 for x in dom1]\n",
    "loglog(d4, \".\", label = \"Datos\")\n",
    "loglog(dom1, ran1, label = \"V(n) = $(exp(a1))*n^$b1\")\n",
    "legend(fontsize = 8, loc = \"auto\")\n",
    "title(L\"Convergencia para $x_0 = -1.25$\")\n",
    "xlabel(L\"Iteración $n$\")\n",
    "ylabel(L\"|F_4^n(x_0) - 1.0|\")\n",
    "show()"
   ]
  },
  {
   "cell_type": "code",
   "execution_count": null,
   "metadata": {
    "collapsed": false
   },
   "outputs": [],
   "source": [
    "figure(figsize = (5, 5))\n",
    "gpf4 = distancia(f42,-1.0, pf42, 1000000)\n",
    "d4 = reshape(gpf4[:,1],1000000)\n",
    "loglog(d4)\n",
    "title(L\"Convergencia para $x_0 =-1.0$\")\n",
    "xlabel(L\"Iteración-n\")\n",
    "ylabel(L\"|F_2^n(x_0) +1.20711|\")\n",
    "show()\n"
   ]
  },
  {
   "cell_type": "code",
   "execution_count": null,
   "metadata": {
    "collapsed": false
   },
   "outputs": [],
   "source": [
    "figure(figsize = (4,4))\n",
    "dom1 = collect(1:1000000)\n",
    "a1, b1 = linreg(log(dom1), log(d4))\n",
    "ran1 = Float64[exp(a1)*x^b1 for x in dom1]\n",
    "loglog(d4, \".\", label = \"Datos\")\n",
    "loglog(dom1, ran1, label = \"V(n) = $(exp(a1))*n^$b1\")\n",
    "legend(fontsize = 8, loc = \"auto\")\n",
    "title(L\"Convergencia para $x_0 = -1.0$\")\n",
    "xlabel(L\"Iteración $n$\")\n",
    "ylabel(L\"|F_4^n(x_0) + 1.20711|\")\n",
    "show()"
   ]
  },
  {
   "cell_type": "markdown",
   "metadata": {},
   "source": [
    "La velocidad de convergencia para ambos casos es del mismo orden: $V(n) \\approx \\frac{0.119}{\\sqrt{n}}$, por lo que concluimos que $-1.20711$ es un punto fijo atractor."
   ]
  },
  {
   "cell_type": "markdown",
   "metadata": {},
   "source": [
    "Hagamos el análisis para el punto fijo $0.2071$. "
   ]
  },
  {
   "cell_type": "code",
   "execution_count": null,
   "metadata": {
    "collapsed": false,
    "scrolled": true
   },
   "outputs": [],
   "source": [
    "figure(figsize = (5, 5))\n",
    "gpf4 = distancia(f42,0.0, pf42, 1000000)\n",
    "d4 = reshape(gpf4[:,2],1000000)\n",
    "loglog(d4)\n",
    "title(L\"Convergencia para $x_0 =0.0$\")\n",
    "xlabel(L\"Iteración-n\")\n",
    "ylabel(L\"|F_2^n(x_0) -0.2071|\")\n",
    "show()"
   ]
  },
  {
   "cell_type": "code",
   "execution_count": null,
   "metadata": {
    "collapsed": false
   },
   "outputs": [],
   "source": [
    "figure(figsize = (5, 5))\n",
    "gpf4 = distancia(f42,0.3, pf42, 1000000)\n",
    "d4 = reshape(gpf4[:,2],1000000)\n",
    "loglog(d4)\n",
    "title(L\"Convergencia para $x_0 =0.3$\")\n",
    "xlabel(L\"Iteración-n\")\n",
    "ylabel(L\"|F_2^n(x_0) -0.2071|\")\n",
    "show()"
   ]
  },
  {
   "cell_type": "markdown",
   "metadata": {},
   "source": [
    "Para ambos casos observamos comportamiento atractivo, encontremos la velocidad de convergencia:"
   ]
  },
  {
   "cell_type": "code",
   "execution_count": null,
   "metadata": {
    "collapsed": false
   },
   "outputs": [],
   "source": [
    "figure(figsize = (4,4))\n",
    "dom1 = collect(1:1000000)\n",
    "a1, b1 = linreg(log(dom1), log(d4))\n",
    "ran1 = Float64[exp(a1)*x^b1 for x in dom1]\n",
    "loglog(d4, \".\", label = \"Datos\")\n",
    "loglog(dom1, ran1, label = \"V(n) = $(exp(a1))*n^$b1\")\n",
    "legend(fontsize = 8, loc = \"auto\")\n",
    "title(L\"Convergencia para $x_0 = -1.0$\")\n",
    "xlabel(L\"Iteración $n$\")\n",
    "ylabel(L\"|F_4^n(x_0) -0.2071|\")\n",
    "show()"
   ]
  },
  {
   "cell_type": "markdown",
   "metadata": {},
   "source": [
    "La velocidad de convergencia está dada por $V(N) \\approx \\frac{0.297}{\\sqrt{n}}$. Finalmente calculemos la derivada:"
   ]
  },
  {
   "cell_type": "code",
   "execution_count": null,
   "metadata": {
    "collapsed": false
   },
   "outputs": [],
   "source": [
    "deripf42 = Float64[]\n",
    "\n",
    "for j in pf42\n",
    "    x0 = xdual(j)\n",
    "    push!(deripf42, f42(x0).der)\n",
    "end\n",
    "pf42, deripf42"
   ]
  },
  {
   "cell_type": "markdown",
   "metadata": {},
   "source": [
    "En ambos casos la derivada es menor que uno. Por lo que inferimos que para puntos fijos atractores esto siempre sucede."
   ]
  },
  {
   "cell_type": "markdown",
   "metadata": {},
   "source": [
    "## Para $f_5^2$"
   ]
  },
  {
   "cell_type": "code",
   "execution_count": null,
   "metadata": {
    "collapsed": false,
    "scrolled": true
   },
   "outputs": [],
   "source": [
    "pf52=puntofijo(f52,[-1.0,1.0])"
   ]
  },
  {
   "cell_type": "code",
   "execution_count": null,
   "metadata": {
    "collapsed": false
   },
   "outputs": [],
   "source": [
    "deri5 = xdual(1.0)\n",
    "f52(deri5)"
   ]
  },
  {
   "cell_type": "markdown",
   "metadata": {},
   "source": [
    "La derivada es 1 , por lo que de nuevo no podemos concluir si es atractor o repulsor. Hagamos entonces el análisis."
   ]
  },
  {
   "cell_type": "code",
   "execution_count": null,
   "metadata": {
    "collapsed": false
   },
   "outputs": [],
   "source": [
    "figure(figsize = (5, 5))\n",
    "gpf5 = distancia(f52,0.3, pf52, 1000000)\n",
    "d5 = reshape(gpf5,1000000)\n",
    "loglog(d5)\n",
    "title(L\"Convergencia para $x_0 =0.3$\")\n",
    "xlabel(L\"Iteración-n\")\n",
    "ylabel(L\"|F_5^n(x_0) -1.0|\")\n",
    "#show()"
   ]
  },
  {
   "cell_type": "code",
   "execution_count": null,
   "metadata": {
    "collapsed": false
   },
   "outputs": [],
   "source": [
    "figure(figsize = (4,4))\n",
    "dom1 = collect(1:1000000)\n",
    "a1, b1 = linreg(log(dom1), log(d5))\n",
    "ran1 = Float64[exp(a1)*x^b1 for x in dom1]\n",
    "loglog(d5, \".\", label = \"Datos\")\n",
    "loglog(dom1, ran1, label = \"V(n) = $(exp(a1))*n^$b1\")\n",
    "legend(fontsize = 8, loc = \"auto\")\n",
    "title(L\"Convergencia para $x_0 = 0.3$\")\n",
    "xlabel(L\"Iteración $n$\")\n",
    "ylabel(L\"|F_5^n(x_0) -1|\")\n",
    "show()"
   ]
  },
  {
   "cell_type": "markdown",
   "metadata": {},
   "source": [
    "La velocidad de convergencia es $V(n) \\approx \\frac{1.708}{\\sqrt{n}}$. Es un punto fijo repulsor. "
   ]
  },
  {
   "cell_type": "markdown",
   "metadata": {},
   "source": [
    "\n",
    "## Ejercicio 1.\n",
    "Llamemos $c_n$ el valor del parámetro $c$ donde ocurre la bifurcación de doblamiento de periodo para el mapeo $Q_c(x)$, donde la órbita de periodo $2^n$ nace. Es decir, tenemos que $c_0=1/4$ marca la aparición del atractor de periodo $2^0=1$, $c_1=-1/4$ corresponde a la aparición del atractor de periodo $2^1=2$, $c_2=-3/4$ a la aparición del atractor de periodo $2^2=4$, etc.\n",
    "A partir de estos valores y otros que calcularán (al menos deben encontrar $c_6$), definimos la secuencia: $\\{f_0, f_1, f_2, \\dots\\}$, donde\n",
    "$$\n",
    "f_n = \\frac{c_n-c_{n+1}}{c_{n+1}-c_{n+2}} .\n",
    "$$\n",
    "La pregunta es, ¿a qué valor converge esta secuencia?, es decir, dar una estimación de $f_\\infty$.\n",
    "Hint: Para realizar este ejercicio deben calcular el atractor para varias valores de $c$, de tal manera que puedan aislar las órbitas de periodo $2^p$ y de ahí determinar varios valores $c_n$. Sin embargo, van a requerir suficiente cuidado para obtener una buena aproximación de $c_n$.\n",
    "Una opción, que tiene ciertos inconvenientes numéricos que también ciertas ventajas se basa en recordar/usar que las bifurcaciones de doblamiento de periodo ocurren cuando los puntos de la órbita de periodo $p$ se tornan en repulsores, es decir, $(Q_c^p)'(x)=-1$. Esta opción, entonces, involucra obtener los valores $c_n$ usando los polinomios $Q_c^p(x)$ y diferenciación automática."
   ]
  },
  {
   "cell_type": "markdown",
   "metadata": {
    "collapsed": false
   },
   "source": [
    "Para hacer este ejercicio consideraremos que el valor de los coeficientes $C_{n}s^{'}$ puede ser obtenido a partir\n",
    "del análisis de los exponentes de Lyapunov, los cuales ayudan a definir el caos en un sistema dinámico del siguiente\n",
    "modo:"
   ]
  },
  {
   "cell_type": "markdown",
   "metadata": {
    "collapsed": false
   },
   "source": [
    "Considerando mapeos en una dimensión, la distancia entre los iterados $n$ es\n",
    "$$\n",
    "D_n = \\big|\\, f^{n}(x_0+\\epsilon)-f^{n}(x_0) \\big|\\,.\n",
    "$$\n",
    "Entonces, suponiendo que $D_n$ tiene una dependencia exponencial de $n$, para $n\\to\\infty$ y $\\epsilon\\to 0$, escribimos $D_n= \\epsilon \\exp(\\lambda n)$, de donde obtenemos\n",
    "$$\n",
    "\\lambda(x_0) \\equiv \\lim_{n\\to\\infty} \\lim_{\\epsilon\\to 0} \n",
    "\\frac{1}{n}\\log\\Big| \\frac{f^{n}(x_0+\\epsilon)-f^{n}(x_0)}{\\epsilon}\\Big|.\n",
    "$$\n",
    "A $\\lambda(x_0)$ se le llama exponente de Lyapunov. Si $\\lambda(x_0)>0$ diremos que hay caos, mientras que si $\\lambda(x_0)<0$ diremos que no lo hay."
   ]
  },
  {
   "cell_type": "markdown",
   "metadata": {},
   "source": [
    "\n",
    "Si el mapeo $f(x)$ es suficientemente suave, entonces podemos escribir\n",
    "$$\n",
    "\\lambda(x_0) = \\lim_{n\\to\\infty} \\frac{1}{n}\\log\\Big| \\frac{{\\rm d} f^{n}}{{\\rm d}x}(x_0)\\Big|,\n",
    "$$\n",
    "Usando que\n",
    "$$\n",
    "\\frac{{\\rm d}f^n}{{\\rm d}x}(x_0) = f'(x_0) f'(x_1)\\dots f'(x_{n-1}) \n",
    "= \\prod_{i=1}^{n} f'(x_i), \n",
    "$$\n",
    "donde $x_i=f^i(x_0)$ obtenemos\n",
    "$$\n",
    "\\lambda(x_0) = \\lim_{n\\to\\infty} \\frac{1}{n} \\sum_{i=1}^n \\log\n",
    "\\Big| \\, f'(x_i)\\, \\Big|.\n",
    "$$\n"
   ]
  },
  {
   "cell_type": "markdown",
   "metadata": {
    "collapsed": false
   },
   "source": [
    "Y los valores de $C$ para los que $\\lambda(x_{0})$ , para una condición inicial dada,alcanza un mínimo local, son los que nos interesa obtener para calcular la secuencia $f_{n}$."
   ]
  },
  {
   "cell_type": "markdown",
   "metadata": {},
   "source": [
    "Iterémos n veces una función f cualquiera dada una condición inicial $x_{0}$."
   ]
  },
  {
   "cell_type": "code",
   "execution_count": 113,
   "metadata": {
    "collapsed": false
   },
   "outputs": [
    {
     "data": {
      "text/plain": [
       "iterandoando (generic function with 1 method)"
      ]
     },
     "execution_count": 113,
     "metadata": {},
     "output_type": "execute_result"
    }
   ],
   "source": [
    "function iterandoando(f::Function,x0::Float64,n::Int64)\n",
    "    ev = Float64[x0]\n",
    "    x=x0\n",
    "    for i in 1:n\n",
    "        x=f(x)\n",
    "        push!(ev,x)\n",
    "    end\n",
    "    ev\n",
    "end"
   ]
  },
  {
   "cell_type": "markdown",
   "metadata": {
    "collapsed": false
   },
   "source": [
    "Calculemos entonces los exponentes de Lyapunov de la función f:"
   ]
  },
  {
   "cell_type": "code",
   "execution_count": 2,
   "metadata": {
    "collapsed": false
   },
   "outputs": [
    {
     "data": {
      "text/plain": [
       "exponentes (generic function with 1 method)"
      ]
     },
     "execution_count": 2,
     "metadata": {},
     "output_type": "execute_result"
    }
   ],
   "source": [
    "function exponentes(ev::Array,f::Function)\n",
    "    n=length(ev)\n",
    "    lambda=0\n",
    "    for i in 1:n\n",
    "        sumando=abs((f(xdual(ev[i]))).der)\n",
    "        lambda=lambda + log(sumando)\n",
    "       # println(\"Valor del exponente en la iteración\")(i,lambda/i)\n",
    "    end\n",
    "    lambda/n\n",
    "end\n"
   ]
  },
  {
   "cell_type": "markdown",
   "metadata": {},
   "source": [
    "Ahora utilicemos las funciones antes creadas para obtener los exponentes  de nuestras $Q_{c}(x)$. Como queremos encontrar los mínimos de la función, sólo nos interesarán los exponentes de Lyapunov negativos."
   ]
  },
  {
   "cell_type": "code",
   "execution_count": 3,
   "metadata": {
    "collapsed": false
   },
   "outputs": [
    {
     "data": {
      "text/plain": [
       "explyap (generic function with 1 method)"
      ]
     },
     "execution_count": 3,
     "metadata": {},
     "output_type": "execute_result"
    }
   ],
   "source": [
    "function explyap(Qc::Function,x0::Float64,crange::FloatRange,n::Int64)\n",
    "    evaluacion=Float64[]\n",
    "    valordec=Float64[]\n",
    "    for i in crange\n",
    "        Qci(x)=Qc(x,i)\n",
    "        ev=iterandoando(Qci,x0,n)\n",
    "        lambda=exponentes(ev,Qci)\n",
    "        if lambda<=0\n",
    "            if abs(lambda)<Inf\n",
    "                push!(evaluacion,lambda)\n",
    "            else\n",
    "                push!(evaluacion,-10)       \n",
    "          end\n",
    "        else\n",
    "            break \n",
    "        end \n",
    "    end \n",
    "    for i in 1:length(evaluacion)\n",
    "        push!(valordec,crange[i])\n",
    "    end\n",
    "    evaluacion,valordec\n",
    "end"
   ]
  },
  {
   "cell_type": "code",
   "execution_count": 3,
   "metadata": {
    "collapsed": false,
    "scrolled": true
   },
   "outputs": [
    {
     "data": {
      "text/plain": [
       "Qc (generic function with 1 method)"
      ]
     },
     "execution_count": 3,
     "metadata": {},
     "output_type": "execute_result"
    }
   ],
   "source": [
    "Qc(x,c)=x^2+c"
   ]
  },
  {
   "cell_type": "code",
   "execution_count": 41,
   "metadata": {
    "collapsed": false
   },
   "outputs": [],
   "source": [
    "crange = -(0.75-1/2^16):-1/2^16:-1.405\n",
    "func,c= explyap(Qc,1.0,crange,10000);"
   ]
  },
  {
   "cell_type": "code",
   "execution_count": 42,
   "metadata": {
    "collapsed": false
   },
   "outputs": [
    {
     "data": {
      "image/png": "[encoded data removed]",
      "text/plain": [
       "PyPlot.Figure(PyObject <matplotlib.figure.Figure object at 0x7fc184800dd8>)"
      ]
     },
     "metadata": {},
     "output_type": "display_data"
    }
   ],
   "source": [
    "p = plot(c, func)\n",
    "xlabel(L\"c\")\n",
    "ylabel(L\"\\lambda(c)\")\n",
    "title(L\"Exponentes de Lyapunov de $Q_c(x)= x^2 +c$\")\n",
    "ylim(-10,1.0)\n",
    "show()"
   ]
  },
  {
   "cell_type": "markdown",
   "metadata": {},
   "source": [
    "Ahora calculemos los mínimos que se observan en la gráfica anterior mediante un código conocido de cursos anteriores:"
   ]
  },
  {
   "cell_type": "code",
   "execution_count": 43,
   "metadata": {
    "collapsed": false
   },
   "outputs": [
    {
     "name": "stderr",
     "output_type": "stream",
     "text": [
      "WARNING: Method definition minimize(Array, Array) in module Main at In[35]:2 overwritten at In[43]:2.\n"
     ]
    },
    {
     "data": {
      "text/plain": [
       "minimize (generic function with 1 method)"
      ]
     },
     "execution_count": 43,
     "metadata": {},
     "output_type": "execute_result"
    }
   ],
   "source": [
    "function minimize(func::Array,crange::Array)\n",
    "    n = length(func)\n",
    "    c = Float64[]\n",
    "    for i in 2:n-1       \n",
    "        if (abs(func[i+1]) > abs(func[i]) < abs(func[i-1])) \n",
    "            push!(c,(crange[i]))\n",
    "        end\n",
    "        \n",
    "    end\n",
    "    return c\n",
    "end"
   ]
  },
  {
   "cell_type": "code",
   "execution_count": 44,
   "metadata": {
    "collapsed": false
   },
   "outputs": [
    {
     "data": {
      "text/plain": [
       "7-element Array{Float64,1}:\n",
       " -1.24995\n",
       " -1.36807\n",
       " -1.39404\n",
       " -1.39963\n",
       " -1.40083\n",
       " -1.40108\n",
       " -1.40114"
      ]
     },
     "execution_count": 44,
     "metadata": {},
     "output_type": "execute_result"
    }
   ],
   "source": [
    "dp = (minimize(func,c))\n",
    "dp = deleteat!(dp,4)"
   ]
  },
  {
   "cell_type": "markdown",
   "metadata": {},
   "source": [
    "Finalmente, calculemos el límite de la sucesión $f_n$."
   ]
  },
  {
   "cell_type": "code",
   "execution_count": 45,
   "metadata": {
    "collapsed": false
   },
   "outputs": [
    {
     "name": "stderr",
     "output_type": "stream",
     "text": [
      "WARNING: Method definition suc(Array) in module Main at In[37]:2 overwritten at In[45]:2.\n"
     ]
    },
    {
     "data": {
      "text/plain": [
       "suc (generic function with 1 method)"
      ]
     },
     "execution_count": 45,
     "metadata": {},
     "output_type": "execute_result"
    }
   ],
   "source": [
    "function suc(dp::Array)\n",
    "    lim = Float64[]\n",
    "    for i in 3:length(dp)\n",
    "        coc=((dp[i-2])-(dp[i-1]))/((dp[i-1])-(dp[i]))\n",
    "        push!(lim,coc)\n",
    "        end\n",
    "    lim\n",
    "end\n"
   ]
  },
  {
   "cell_type": "code",
   "execution_count": 46,
   "metadata": {
    "collapsed": false
   },
   "outputs": [
    {
     "data": {
      "text/plain": [
       "5-element Array{Float64,1}:\n",
       " 4.54818\n",
       " 4.65027\n",
       " 4.63291\n",
       " 4.9375 \n",
       " 4.0    "
      ]
     },
     "execution_count": 46,
     "metadata": {},
     "output_type": "execute_result"
    }
   ],
   "source": [
    "suc(dp)\n"
   ]
  },
  {
   "cell_type": "markdown",
   "metadata": {},
   "source": [
    "Calculando el promedio de estos valores, obtenemos el límite buscado:"
   ]
  },
  {
   "cell_type": "markdown",
   "metadata": {},
   "source": [
    "$f_{n} \\approx 4.553772$"
   ]
  },
  {
   "cell_type": "markdown",
   "metadata": {
    "collapsed": true
   },
   "source": [
    "### Ejercicio 2:\n",
    "Repitan el ejercicio anterior para el mapeo $S_c(x) = c \\sin(x)$. ¿Cómo se comparan los valores obtenidos de $f_n$?"
   ]
  },
  {
   "cell_type": "code",
   "execution_count": 18,
   "metadata": {
    "collapsed": false
   },
   "outputs": [
    {
     "data": {
      "text/plain": [
       "Qc (generic function with 2 methods)"
      ]
     },
     "execution_count": 18,
     "metadata": {},
     "output_type": "execute_result"
    }
   ],
   "source": [
    "Qc(x)=c*sin(x)"
   ]
  },
  {
   "cell_type": "code",
   "execution_count": 33,
   "metadata": {
    "collapsed": false
   },
   "outputs": [],
   "source": [
    "crange = -(0.75-1/2^16):-1/2^16:-1.405\n",
    "func,c= explyap(Qc,1.0,crange,10000);"
   ]
  },
  {
   "cell_type": "code",
   "execution_count": 34,
   "metadata": {
    "collapsed": false
   },
   "outputs": [
    {
     "data": {
      "image/png": "[encoded data removed]",
      "text/plain": [
       "PyPlot.Figure(PyObject <matplotlib.figure.Figure object at 0x7fc18470d3c8>)"
      ]
     },
     "metadata": {},
     "output_type": "display_data"
    }
   ],
   "source": [
    "p = plot(c, func)\n",
    "xlabel(L\"c\")\n",
    "ylabel(L\"\\lambda(c)\")\n",
    "title(L\"Exponentes de Lyapunov de $Q_c(x)= x^2 +c$\")\n",
    "ylim(-10,1.0)\n",
    "show()"
   ]
  },
  {
   "cell_type": "code",
   "execution_count": 35,
   "metadata": {
    "collapsed": false
   },
   "outputs": [
    {
     "name": "stderr",
     "output_type": "stream",
     "text": [
      "WARNING: Method definition minimize(Array, Array) in module Main at In[28]:2 overwritten at In[35]:2.\n"
     ]
    },
    {
     "data": {
      "text/plain": [
       "minimize (generic function with 1 method)"
      ]
     },
     "execution_count": 35,
     "metadata": {},
     "output_type": "execute_result"
    }
   ],
   "source": [
    "function minimize(func::Array,crange::Array)\n",
    "    n = length(func)\n",
    "    c = Float64[]\n",
    "    for i in 2:n-1       \n",
    "        if (abs(func[i+1]) > abs(func[i]) < abs(func[i-1])) \n",
    "            push!(c,(crange[i]))\n",
    "        end\n",
    "        \n",
    "    end\n",
    "    return c\n",
    "end"
   ]
  },
  {
   "cell_type": "code",
   "execution_count": 36,
   "metadata": {
    "collapsed": false
   },
   "outputs": [
    {
     "data": {
      "text/plain": [
       "7-element Array{Float64,1}:\n",
       " -1.24995\n",
       " -1.36807\n",
       " -1.39404\n",
       " -1.39925\n",
       " -1.40083\n",
       " -1.40108\n",
       " -1.40114"
      ]
     },
     "execution_count": 36,
     "metadata": {},
     "output_type": "execute_result"
    }
   ],
   "source": [
    "dp = (minimize(func,c))\n",
    "dp = deleteat!(dp,5)"
   ]
  },
  {
   "cell_type": "code",
   "execution_count": 41,
   "metadata": {
    "collapsed": false
   },
   "outputs": [
    {
     "data": {
      "text/plain": [
       "suc (generic function with 1 method)"
      ]
     },
     "execution_count": 41,
     "metadata": {},
     "output_type": "execute_result"
    }
   ],
   "source": [
    "function suc(dp::Array)\n",
    "    lim = Float64[]\n",
    "    for i in 3:length(dp)\n",
    "        coc=((dp[i-2])-(dp[i-1]))/((dp[i-1])-(dp[i]))\n",
    "        push!(lim,coc)\n",
    "        end\n",
    "    lim\n",
    "end\n"
   ]
  },
  {
   "cell_type": "code",
   "execution_count": 38,
   "metadata": {
    "collapsed": false
   },
   "outputs": [
    {
     "data": {
      "text/plain": [
       "5-element Array{Float64,1}:\n",
       " 4.54818\n",
       " 4.9912 \n",
       " 3.27885\n",
       " 6.5    \n",
       " 4.0    "
      ]
     },
     "execution_count": 38,
     "metadata": {},
     "output_type": "execute_result"
    }
   ],
   "source": [
    "suc(dp)\n"
   ]
  },
  {
   "cell_type": "markdown",
   "metadata": {},
   "source": [
    "Obteniendo el promedio de estos valores, tenemos que en este caso $f_n \\approx 4.663646$. Lo cual indica que debe existir algún error de corte numérico en nuestros códigos, ya que según vimos en clase, éste valor es constante."
   ]
  },
  {
   "cell_type": "markdown",
   "metadata": {
    "collapsed": true
   },
   "source": [
    "**Ejercicio 3:**\n",
    "\n",
    "Como se ve en la Fig. 1 (de [este](https://github.com/lbenet/2017-1_TSFisComp/blob/master/notas_clase/08_Mapeos1d-3.ipynb) notebook), $x=0$ pertenece a un ciclo de periodo $2^n$ para ciertos valores $C_n$ del parámetro. Dichos valores son *especiales*, ya que $x=0$ esté en el ciclo de periodo $2^n$ marca los llamados *ciclos superestable*, donde tenemos $(Q^{2^p}_{C_n})'(0)=0$.\n",
    "\n",
    "¿A qué converge la secuencia $f_n$, definida ahora con los valores $C_n$.\n",
    "\n",
    "De los $2^p$ puntos del ciclo de periodo $2^p$, es decir, $\\{0, p_1, \\dots p_{2^{n-1}}\\,\\}$ hay uno (distinto del 0) cuya distancia a 0 es menor; a ese punto lo identificamos como $d_n$. Calcular numéricamente a dónde converge la secuencia $d_n/d_{n+1}$."
   ]
  },
  {
   "cell_type": "code",
   "execution_count": 79,
   "metadata": {
    "collapsed": false
   },
   "outputs": [
    {
     "data": {
      "text/plain": [
       "Qc_n (generic function with 1 method)"
      ]
     },
     "execution_count": 79,
     "metadata": {},
     "output_type": "execute_result"
    }
   ],
   "source": [
    "#Se construye la funición 'Qc_n' que permite calcular la n-ésima iteración del mapeo cuadrático 'Qc' para un valor de 'c'\n",
    "#determinado.\n",
    "function Qc_n(x,cond)\n",
    "    c,n = cond[1],cond[2]\n",
    "    for i in 1:n\n",
    "        x=Qc(x,c)\n",
    "    end\n",
    "    return x\n",
    "end"
   ]
  },
  {
   "cell_type": "code",
   "execution_count": 80,
   "metadata": {
    "collapsed": false
   },
   "outputs": [
    {
     "data": {
      "text/plain": [
       "compute_roots (generic function with 1 method)"
      ]
     },
     "execution_count": 80,
     "metadata": {},
     "output_type": "execute_result"
    }
   ],
   "source": [
    "#Se construye la función 'raices_newton' que permite calcular las raices de la función 'f', mediante el método de \n",
    "#Newton, dada una condición inicial 'x0'. Se utiliza 'AutomDiff_V2.jl' para obtener la derivada de la función evaluada\n",
    "#en el punto 'x'.\n",
    "function compute_roots(f,x0)\n",
    "    x = x0\n",
    "    for i in 1:100\n",
    "        x = x - f(x) / f(xdual(x)).der\n",
    "    end\n",
    "    x\n",
    "end"
   ]
  },
  {
   "cell_type": "markdown",
   "metadata": {},
   "source": [
    "A continuación se calculan las primeras $6$ $C_{n}$ correspondientes al mapeo 'Qc' iterado $2^n$ veces respectivamente, para x=0. La condición inicial para cada caso se obtuvo de la observación de la figura 1 del notebook.  "
   ]
  },
  {
   "cell_type": "code",
   "execution_count": 81,
   "metadata": {
    "collapsed": false
   },
   "outputs": [
    {
     "data": {
      "text/plain": [
       "0.0"
      ]
     },
     "execution_count": 81,
     "metadata": {},
     "output_type": "execute_result"
    }
   ],
   "source": [
    "Q0(c)= Qc_n(0,(c,1))\n",
    "C0=compute_roots(Q0,0.4)"
   ]
  },
  {
   "cell_type": "code",
   "execution_count": 83,
   "metadata": {
    "collapsed": false
   },
   "outputs": [
    {
     "data": {
      "text/plain": [
       "-1.0"
      ]
     },
     "execution_count": 83,
     "metadata": {},
     "output_type": "execute_result"
    }
   ],
   "source": [
    "Q1(c)= Qc_n(0,(c,2))\n",
    "C1=compute_roots(Q1,-1)"
   ]
  },
  {
   "cell_type": "code",
   "execution_count": 85,
   "metadata": {
    "collapsed": false
   },
   "outputs": [
    {
     "data": {
      "text/plain": [
       "-1.3107026413368328"
      ]
     },
     "execution_count": 85,
     "metadata": {},
     "output_type": "execute_result"
    }
   ],
   "source": [
    "Q2(c)= Qc_n(0,(c,4))\n",
    "C2=compute_roots(Q2,-1.4)"
   ]
  },
  {
   "cell_type": "code",
   "execution_count": 87,
   "metadata": {
    "collapsed": false
   },
   "outputs": [
    {
     "data": {
      "text/plain": [
       "-1.3815474844320617"
      ]
     },
     "execution_count": 87,
     "metadata": {},
     "output_type": "execute_result"
    }
   ],
   "source": [
    "Q3(c)= Qc_n(0,(c,8))\n",
    "C3=compute_roots(Q3,-1.38)"
   ]
  },
  {
   "cell_type": "code",
   "execution_count": 88,
   "metadata": {
    "collapsed": false
   },
   "outputs": [
    {
     "data": {
      "text/plain": [
       "-1.3969453597045602"
      ]
     },
     "execution_count": 88,
     "metadata": {},
     "output_type": "execute_result"
    }
   ],
   "source": [
    "Q4(c)= Qc_n(0,(c,16))\n",
    "C4=compute_roots(Q4,-1.4)"
   ]
  },
  {
   "cell_type": "code",
   "execution_count": 95,
   "metadata": {
    "collapsed": false
   },
   "outputs": [
    {
     "data": {
      "text/plain": [
       "-1.4002530812147829"
      ]
     },
     "execution_count": 95,
     "metadata": {},
     "output_type": "execute_result"
    }
   ],
   "source": [
    "Q5(c)= Qc_n(0,(c,32))\n",
    "C5=compute_roots(Q5,-1.4)"
   ]
  },
  {
   "cell_type": "markdown",
   "metadata": {},
   "source": [
    "Enotnes, las **$C_{n}$'s** son:"
   ]
  },
  {
   "cell_type": "code",
   "execution_count": 110,
   "metadata": {
    "collapsed": false
   },
   "outputs": [
    {
     "data": {
      "text/plain": [
       "6-element Array{Float64,1}:\n",
       "  0.0    \n",
       " -1.0    \n",
       " -1.3107 \n",
       " -1.38155\n",
       " -1.39695\n",
       " -1.40025"
      ]
     },
     "execution_count": 110,
     "metadata": {},
     "output_type": "execute_result"
    }
   ],
   "source": [
    "cs=[C0,C1,C2,C3,C4,C5]"
   ]
  },
  {
   "cell_type": "markdown",
   "metadata": {},
   "source": [
    "Se calculan las $f_n$:"
   ]
  },
  {
   "cell_type": "code",
   "execution_count": 111,
   "metadata": {
    "collapsed": false
   },
   "outputs": [
    {
     "data": {
      "text/plain": [
       "4-element Array{Float64,1}:\n",
       " 3.21851\n",
       " 4.38568\n",
       " 4.60095\n",
       " 4.65513"
      ]
     },
     "execution_count": 111,
     "metadata": {},
     "output_type": "execute_result"
    }
   ],
   "source": [
    "suc(cs) #se utiliza la función del ejercicio 1."
   ]
  },
  {
   "cell_type": "markdown",
   "metadata": {},
   "source": [
    "Se observa que $f_n$ tiende a la constante de Feigenbaum $4.6692$"
   ]
  },
  {
   "cell_type": "markdown",
   "metadata": {},
   "source": [
    "Se calculan las $d_n$. En este caso, como se quiere calcular el mínimo de las distancias entre el $0$ y cada iterado, se toma sólamente el mínimo de los iterados."
   ]
  },
  {
   "cell_type": "code",
   "execution_count": 178,
   "metadata": {
    "collapsed": false
   },
   "outputs": [
    {
     "data": {
      "text/plain": [
       "d_n (generic function with 2 methods)"
      ]
     },
     "execution_count": 178,
     "metadata": {},
     "output_type": "execute_result"
    }
   ],
   "source": [
    "#Se construye la función 'd_n' que permite calcular el mínimo elemento del arreglo que contiene a las (2^n)-1 iteraciones \n",
    "#correspondientes a la función 'Qc', tomando como el argumento 'c' a cada una de las \"c's\" calculadas en la primera \n",
    "#parte de este ejercicio.\n",
    "function d_n(a::Array)\n",
    "    d=Float64[]\n",
    "    for i in 2:length(a)\n",
    "        y=minabs(deleteat!(iterandoando(x->Qc(x,a[i]),0.0,(2^(i-1))-1),1))\n",
    "        push!(d,y)\n",
    "    end\n",
    "    d\n",
    "end"
   ]
  },
  {
   "cell_type": "markdown",
   "metadata": {},
   "source": [
    "Entonces las \"$d_{n}$'s\" son:"
   ]
  },
  {
   "cell_type": "code",
   "execution_count": 179,
   "metadata": {
    "collapsed": false
   },
   "outputs": [
    {
     "data": {
      "text/plain": [
       "5-element Array{Float64,1}:\n",
       " 1.0      \n",
       " 0.407239 \n",
       " 0.163425 \n",
       " 0.0653634\n",
       " 0.0261213"
      ]
     },
     "execution_count": 179,
     "metadata": {},
     "output_type": "execute_result"
    }
   ],
   "source": [
    "d_n(cs)"
   ]
  },
  {
   "cell_type": "code",
   "execution_count": 181,
   "metadata": {
    "collapsed": false
   },
   "outputs": [
    {
     "data": {
      "text/plain": [
       "suc2 (generic function with 1 method)"
      ]
     },
     "execution_count": 181,
     "metadata": {},
     "output_type": "execute_result"
    }
   ],
   "source": [
    "#Esta función permite calcular la sucesión 'd_n/d_n+1'\n",
    "function suc2(a::Array)\n",
    "    coc=Float64[]\n",
    "    for i in 1:length(a)-1\n",
    "        d=a[i]/a[i+1]\n",
    "        push!(coc,d)\n",
    "    end\n",
    "    coc\n",
    "end"
   ]
  },
  {
   "cell_type": "code",
   "execution_count": 182,
   "metadata": {
    "collapsed": false
   },
   "outputs": [
    {
     "data": {
      "text/plain": [
       "4-element Array{Float64,1}:\n",
       " 2.45556\n",
       " 2.49189\n",
       " 2.50026\n",
       " 2.50231"
      ]
     },
     "execution_count": 182,
     "metadata": {},
     "output_type": "execute_result"
    }
   ],
   "source": [
    "suc2(d_n(cs))"
   ]
  },
  {
   "cell_type": "markdown",
   "metadata": {},
   "source": []
  },
  {
   "cell_type": "code",
   "execution_count": 4,
   "metadata": {
    "collapsed": false
   },
   "outputs": [
    {
     "data": {
      "text/plain": [
       "5"
      ]
     },
     "execution_count": 4,
     "metadata": {},
     "output_type": "execute_result"
    }
   ],
   "source": [
    "Qc_n(0,(1,3))"
   ]
  },
  {
   "cell_type": "code",
   "execution_count": 9,
   "metadata": {
    "collapsed": false
   },
   "outputs": [
    {
     "data": {
      "text/plain": [
       "2"
      ]
     },
     "execution_count": 9,
     "metadata": {},
     "output_type": "execute_result"
    }
   ],
   "source": [
    "Qc_n(xdual(1), (1,1)).der"
   ]
  },
  {
   "cell_type": "code",
   "execution_count": 10,
   "metadata": {
    "collapsed": false
   },
   "outputs": [
    {
     "data": {
      "text/plain": [
       "3"
      ]
     },
     "execution_count": 10,
     "metadata": {},
     "output_type": "execute_result"
    }
   ],
   "source": [
    "Qc(1,2)"
   ]
  },
  {
   "cell_type": "code",
   "execution_count": 148,
   "metadata": {
    "collapsed": false
   },
   "outputs": [
    {
     "data": {
      "text/plain": [
       "2-element Array{Float64,1}:\n",
       "  0.0\n",
       " -1.0"
      ]
     },
     "execution_count": 148,
     "metadata": {},
     "output_type": "execute_result"
    }
   ],
   "source": [
    "iterandoando(x->Qc(x,C1),0.0,1)"
   ]
  },
  {
   "cell_type": "code",
   "execution_count": 165,
   "metadata": {
    "collapsed": false
   },
   "outputs": [
    {
     "data": {
      "text/plain": [
       "0.06536337318676244"
      ]
     },
     "execution_count": 165,
     "metadata": {},
     "output_type": "execute_result"
    }
   ],
   "source": [
    "minabs(deleteat!(iterandoando(x->Qc(x,C4),0.0,15),1))"
   ]
  },
  {
   "cell_type": "code",
   "execution_count": 122,
   "metadata": {
    "collapsed": false
   },
   "outputs": [
    {
     "name": "stdout",
     "output_type": "stream",
     "text": [
      "search: deleteat!\n",
      "\n"
     ]
    },
    {
     "data": {
      "text/markdown": [
       "```\n",
       "deleteat!(collection, itr)\n",
       "```\n",
       "\n",
       "Remove the items at the indices given by `itr`, and return the modified `collection`. Subsequent items are shifted to fill the resulting gap. `itr` must be sorted and unique.\n",
       "\n",
       "```jldoctest\n",
       "julia> deleteat!([6, 5, 4, 3, 2, 1], 1:2:5)\n",
       "3-element Array{Int64,1}:\n",
       " 5\n",
       " 3\n",
       " 1\n",
       "\n",
       "julia> deleteat!([6, 5, 4, 3, 2, 1], (2, 2))\n",
       "ERROR: ArgumentError: indices must be unique and sorted\n",
       " in deleteat! at array.jl:546\n",
       "```\n",
       "\n",
       "```\n",
       "deleteat!(collection, index)\n",
       "```\n",
       "\n",
       "Remove the item at the given `index` and return the modified `collection`. Subsequent items are shifted to fill the resulting gap.\n",
       "\n",
       "```jldoctest\n",
       "julia> deleteat!([6, 5, 4, 3, 2, 1], 2)\n",
       "5-element Array{Int64,1}:\n",
       " 6\n",
       " 4\n",
       " 3\n",
       " 2\n",
       " 1\n",
       "```\n"
      ],
      "text/plain": [
       "```\n",
       "deleteat!(collection, itr)\n",
       "```\n",
       "\n",
       "Remove the items at the indices given by `itr`, and return the modified `collection`. Subsequent items are shifted to fill the resulting gap. `itr` must be sorted and unique.\n",
       "\n",
       "```jldoctest\n",
       "julia> deleteat!([6, 5, 4, 3, 2, 1], 1:2:5)\n",
       "3-element Array{Int64,1}:\n",
       " 5\n",
       " 3\n",
       " 1\n",
       "\n",
       "julia> deleteat!([6, 5, 4, 3, 2, 1], (2, 2))\n",
       "ERROR: ArgumentError: indices must be unique and sorted\n",
       " in deleteat! at array.jl:546\n",
       "```\n",
       "\n",
       "```\n",
       "deleteat!(collection, index)\n",
       "```\n",
       "\n",
       "Remove the item at the given `index` and return the modified `collection`. Subsequent items are shifted to fill the resulting gap.\n",
       "\n",
       "```jldoctest\n",
       "julia> deleteat!([6, 5, 4, 3, 2, 1], 2)\n",
       "5-element Array{Int64,1}:\n",
       " 6\n",
       " 4\n",
       " 3\n",
       " 2\n",
       " 1\n",
       "```\n"
      ]
     },
     "execution_count": 122,
     "metadata": {},
     "output_type": "execute_result"
    }
   ],
   "source": [
    "?deleteat!"
   ]
  },
  {
   "cell_type": "code",
   "execution_count": null,
   "metadata": {
    "collapsed": true
   },
   "outputs": [],
   "source": []
  }
 ],
 "metadata": {
  "kernelspec": {
   "display_name": "Julia 0.4.5",
   "language": "julia",
   "name": "julia-0.4"
  },
  "language_info": {
   "file_extension": ".jl",
   "mimetype": "application/julia",
   "name": "julia",
   "version": "0.4.5"
  }
 },
 "nbformat": 4,
 "nbformat_minor": 0
}
