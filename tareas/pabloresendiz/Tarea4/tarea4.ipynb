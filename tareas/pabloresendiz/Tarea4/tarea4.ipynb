{
 "cells": [
  {
   "cell_type": "markdown",
   "metadata": {},
   "source": [
    "# Tarea 4\n"
   ]
  },
  {
   "cell_type": "code",
   "execution_count": 7,
   "metadata": {
    "collapsed": false,
    "scrolled": true
   },
   "outputs": [
    {
     "name": "stderr",
     "output_type": "stream",
     "text": [
      "INFO: Nothing to be done\n",
      "INFO: METADATA is out-of-date — you may not have the latest version of Roots\n",
      "INFO: Use `Pkg.update()` to get the latest versions of your packages\n"
     ]
    }
   ],
   "source": [
    "Pkg.add(\"Roots\")"
   ]
  },
  {
   "cell_type": "code",
   "execution_count": 8,
   "metadata": {
    "collapsed": false
   },
   "outputs": [
    {
     "name": "stderr",
     "output_type": "stream",
     "text": [
      "INFO: Updating METADATA...\n",
      "INFO: Updating cache of DataFrames...\n",
      "INFO: Updating cache of Rmath...\n",
      "INFO: Updating cache of DataFrames...\n",
      "INFO: Computing changes...\n",
      "INFO: Upgrading Compat: v0.9.2 => v0.9.3\n",
      "INFO: Upgrading Rmath: v0.1.3 => v0.1.4\n",
      "INFO: Building Rmath\n"
     ]
    }
   ],
   "source": [
    "Pkg.update()"
   ]
  },
  {
   "cell_type": "code",
   "execution_count": 9,
   "metadata": {
    "collapsed": false,
    "scrolled": true
   },
   "outputs": [
    {
     "name": "stderr",
     "output_type": "stream",
     "text": [
      "INFO: Recompiling stale cache file /home/pablorv/.julia/lib/v0.5/URIParser.ji for module URIParser.\n",
      "WARNING: Module Compat with uuid 2309611939295 is missing from the cache.\n",
      "This may mean module Compat does not support precompilation but is imported by a module that does.\n",
      "ERROR: LoadError: Declaring __precompile__(false) is not allowed in files that are being precompiled.\n",
      " in require(::Symbol) at ./loading.jl:385\n",
      " in include_from_node1(::String) at ./loading.jl:488\n",
      " in macro expansion; at ./none:2 [inlined]\n",
      " in anonymous at ./<missing>:?\n",
      " in eval(::Module, ::Any) at ./boot.jl:234\n",
      " in process_options(::Base.JLOptions) at ./client.jl:239\n",
      " in _start() at ./client.jl:318\n",
      "while loading /home/pablorv/.julia/v0.5/URIParser/src/URIParser.jl, in expression starting on line 10\n"
     ]
    },
    {
     "ename": "LoadError",
     "evalue": "LoadError: Failed to precompile URIParser to /home/pablorv/.julia/lib/v0.5/URIParser.ji.\nwhile loading In[9], in expression starting on line 1",
     "output_type": "error",
     "traceback": [
      "LoadError: Failed to precompile URIParser to /home/pablorv/.julia/lib/v0.5/URIParser.ji.\nwhile loading In[9], in expression starting on line 1",
      "",
      " in compilecache(::String) at ./loading.jl:593",
      " in require(::Symbol) at ./loading.jl:393",
      " in _include_from_serialized(::String) at ./loading.jl:150",
      " in _require_from_serialized(::Int64, ::Symbol, ::String, ::Bool) at ./loading.jl:187",
      " in _require_search_from_serialized(::Int64, ::Symbol, ::String, ::Bool) at ./loading.jl:217",
      " in require(::Symbol) at ./loading.jl:371",
      " in _include_from_serialized(::String) at ./loading.jl:150",
      " in _require_from_serialized(::Int64, ::Symbol, ::String, ::Bool) at ./loading.jl:187",
      " in _require_search_from_serialized(::Int64, ::Symbol, ::String, ::Bool) at ./loading.jl:217",
      " in require(::Symbol) at ./loading.jl:371"
     ]
    }
   ],
   "source": [
    "using PyPlot, Roots, Plots"
   ]
  },
  {
   "cell_type": "code",
   "execution_count": 10,
   "metadata": {
    "collapsed": false,
    "scrolled": false
   },
   "outputs": [
    {
     "name": "stderr",
     "output_type": "stream",
     "text": [
      "WARNING: Method definition *(#T<:Real, AD.Dual) in module AD at /home/pablorv/Desktop/TS/respaldo/tareas/pabloresendiz/Tarea4/AutomDiff_V2.jl:43 overwritten at /home/pablorv/Desktop/TS/respaldo/tareas/pabloresendiz/Tarea4/AutomDiff_V2.jl:53.\n"
     ]
    },
    {
     "data": {
      "text/plain": [
       "AD"
      ]
     },
     "execution_count": 10,
     "metadata": {},
     "output_type": "execute_result"
    }
   ],
   "source": [
    "include(\"AutomDiff_V2.jl\") #Archivo donado por Daniel Martínez"
   ]
  },
  {
   "cell_type": "code",
   "execution_count": 11,
   "metadata": {
    "collapsed": false,
    "scrolled": true
   },
   "outputs": [],
   "source": [
    "import AD: Dual, xdual"
   ]
  },
  {
   "cell_type": "markdown",
   "metadata": {},
   "source": [
    "\n",
    "## Ejercicio 0: Velocidad de convergencia. \\\\\n",
    "\n",
    "\n",
    "El objetivo de este ejercicio es relacionar, la velocidad de convergencia con que un punto fijo (o una órbita periódica, en el caso de los dos últimos incisos) atraen a puntos suficientemente cercanos, con la derivada del mapeo en el punto fijo (o ciclo periódico). La idea es, entonces, calcular primero el punto fijo y, después, medir cómo la distancia de los iterados sucesivos (de una condición inicial $x_0$) al punto fijo se comporta en el tiempo, para los siguientes mapeos:\n",
    "$F(x) = x^2+0.25$ \\\\\n",
    "$F(x) = 3x(1-x)$ \\\\\n",
    "$F(x) = \\exp(x-1)$ \\\\\n",
    "$F(x) = x^2 - 1.25$ \\\\\n",
    "$F(x) = \\exp(x+1)$ \\\\\n",
    "\n",
    "Deberán resolver algunas cosas intermedias. Por ejemplo, ¿qué tanto deben acercarse al punto fijo, a fin de evitar ruido numérico? ¿Qué hay que hacer en el caso en que el punto sea neutral (ni atractivo ni repulsivo)?\n",
    "En los dos últimos incisos, el interés es en los ciclos de periodo 2.\n"
   ]
  },
  {
   "cell_type": "markdown",
   "metadata": {},
   "source": [
    "En este problema las funciones a utilizar son:"
   ]
  },
  {
   "cell_type": "code",
   "execution_count": 16,
   "metadata": {
    "collapsed": false
   },
   "outputs": [
    {
     "name": "stderr",
     "output_type": "stream",
     "text": [
      "WARNING: Method definition f1(Any) in module Main at In[12]:1 overwritten at In[16]:1.\n",
      "WARNING: Method definition f2(Any) in module Main at In[12]:2 overwritten at In[16]:2.\n",
      "WARNING: Method definition f3(Any) in module Main at In[12]:3 overwritten at In[16]:3.\n",
      "WARNING: Method definition f4(Any) in module Main at In[12]:4 overwritten at In[16]:4.\n",
      "WARNING: Method definition f5(Any) in module Main at In[12]:5 overwritten at In[16]:5.\n"
     ]
    },
    {
     "data": {
      "text/plain": [
       "f5prim (generic function with 1 method)"
      ]
     },
     "execution_count": 16,
     "metadata": {},
     "output_type": "execute_result"
    }
   ],
   "source": [
    "f1(x) = x^2 + 0.25\n",
    "f2(x) = 3x*(1 - x)\n",
    "f3(x) = exp(x - 1)\n",
    "f4(x) = x^2 - 0.25\n",
    "f5(x) = exp(1-x)\n",
    "f1prim(x)=2x\n",
    "f2prim(x)=3-6x\n",
    "f3prim(x)=exp(x-1)\n",
    "f4prim(x)=2x\n",
    "f5prim(x)=-exp(1-x)"
   ]
  },
  {
   "cell_type": "markdown",
   "metadata": {},
   "source": [
    "Para buscar los puntos fijos, usemos una función que calcule los ceros de las funciones fi-x."
   ]
  },
  {
   "cell_type": "code",
   "execution_count": 29,
   "metadata": {
    "collapsed": false
   },
   "outputs": [
    {
     "data": {
      "text/plain": [
       "resuelve_cuad (generic function with 1 method)"
      ]
     },
     "execution_count": 29,
     "metadata": {},
     "output_type": "execute_result"
    }
   ],
   "source": [
    "function quadratic{T<:Real}(a::T, b::T, c::T)\n",
    "    disc = b^2 - 4*a*c #Calculamos el valor del discriminante\n",
    "    @assert a != 0 \"Tu ecuación no es de segundo grado, revisa los argumentos.\", disc < 0 \n",
    "    \"La ecuación tiene soluciones complejas, no es posible resolver la ecuación.\"\n",
    "    resuelve_cuad(a,b,c, disc)\n",
    "end\n",
    "\n",
    "function resuelve_cuad(a, b, c, disc) #El algoritmo para encontrar las raíces\n",
    "    sq = sqrt(disc)\n",
    "    x1 = (-b+sq)/(2a)\n",
    "    x2 = (-b-sq)/(2a)\n",
    "    if x1 == x2\n",
    "        raices = Float64[x1]\n",
    "    else\n",
    "        raices = typeof(x1)[x1,x2]\n",
    "    end\n",
    "    return raices\n",
    "end"
   ]
  },
  {
   "cell_type": "code",
   "execution_count": null,
   "metadata": {
    "collapsed": true
   },
   "outputs": [],
   "source": [
    "function distancias(f,puntos,tolera)\n",
    "    for \n",
    "    "
   ]
  },
  {
   "cell_type": "code",
   "execution_count": 33,
   "metadata": {
    "collapsed": false
   },
   "outputs": [
    {
     "data": {
      "text/plain": [
       "1-element Array{Float64,1}:\n",
       " 0.5"
      ]
     },
     "execution_count": 33,
     "metadata": {},
     "output_type": "execute_result"
    }
   ],
   "source": [
    "quadratic(1.0,-1.0,0.25)"
   ]
  },
  {
   "cell_type": "code",
   "execution_count": null,
   "metadata": {
    "collapsed": false
   },
   "outputs": [],
   "source": []
  },
  {
   "cell_type": "markdown",
   "metadata": {},
   "source": [
    "\n",
    "## Ejercicio 1.\n",
    "Llamemos $c_n$ el valor del parámetro $c$ donde ocurre la bifurcación de doblamiento de periodo para el mapeo $Q_c(x)$, donde la órbita de periodo $2^n$ nace. Es decir, tenemos que $c_0=1/4$ marca la aparición del atractor de periodo $2^0=1$, $c_1=-1/4$ corresponde a la aparición del atractor de periodo $2^1=2$, $c_2=-3/4$ a la aparición del atractor de periodo $2^2=4$, etc.\n",
    "A partir de estos valores y otros que calcularán (al menos deben encontrar $c_6$), definimos la secuencia: $\\{f_0, f_1, f_2, \\dots\\}$, donde\n",
    "$$\n",
    "f_n = \\frac{c_n-c_{n+1}}{c_{n+1}-c_{n+2}} .\n",
    "$$\n",
    "La pregunta es, ¿a qué valor converge esta secuencia?, es decir, dar una estimación de $f_\\infty$.\n",
    "Hint: Para realizar este ejercicio deben calcular el atractor para varias valores de $c$, de tal manera que puedan aislar las órbitas de periodo $2^p$ y de ahí determinar varios valores $c_n$. Sin embargo, van a requerir suficiente cuidado para obtener una buena aproximación de $c_n$.\n",
    "Una opción, que tiene ciertos inconvenientes numéricos que también ciertas ventajas se basa en recordar/usar que las bifurcaciones de doblamiento de periodo ocurren cuando los puntos de la órbita de periodo $p$ se tornan en repulsores, es decir, $(Q_c^p)'(x)=-1$. Esta opción, entonces, involucra obtener los valores $c_n$ usando los polinomios $Q_c^p(x)$ y diferenciación automática."
   ]
  },
  {
   "cell_type": "code",
   "execution_count": null,
   "metadata": {
    "collapsed": false
   },
   "outputs": [],
   "source": []
  },
  {
   "cell_type": "code",
   "execution_count": null,
   "metadata": {
    "collapsed": false
   },
   "outputs": [],
   "source": []
  },
  {
   "cell_type": "code",
   "execution_count": null,
   "metadata": {
    "collapsed": false
   },
   "outputs": [],
   "source": [
    "\n"
   ]
  },
  {
   "cell_type": "code",
   "execution_count": null,
   "metadata": {
    "collapsed": false
   },
   "outputs": [],
   "source": []
  },
  {
   "cell_type": "code",
   "execution_count": 19,
   "metadata": {
    "collapsed": false
   },
   "outputs": [
    {
     "name": "stderr",
     "output_type": "stream",
     "text": [
      "WARNING: Method definition puntosfijos(Function, Any) in module Main at In[18]:2 overwritten at In[19]:2.\n",
      "WARNING: Method definition Qc(Any, Any) in module Main at In[18]:7 overwritten at In[19]:9.\n",
      "WARNING: Method definition nombre(Int64, Any) in module Main at In[18]:8 overwritten at In[19]:10.\n",
      "WARNING: Method definition Qcn(Int64, Any, Any) in module Main at In[18]:12 overwritten at In[19]:14.\n",
      "WARNING: Method definition bifurca(Int64, Base.FloatRange{Float64}, Any) in module Main at In[18]:21 overwritten at In[19]:25.\n"
     ]
    },
    {
     "data": {
      "text/plain": [
       "bifurca (generic function with 1 method)"
      ]
     },
     "execution_count": 19,
     "metadata": {},
     "output_type": "execute_result"
    }
   ],
   "source": [
    "function puntosfijos(F::Function, interv)\n",
    "    rf = fzeros(x -> (F(x) - x) , interv) #Método para encontrar los puntos fijos con la función fzeros de Roots.\n",
    "    return rf\n",
    "end\n",
    "\n",
    "\n",
    "# Con esta función se construyen las Qc , al iterar y asignarles el nombre adecuado en cada iteración. \n",
    "\n",
    "Qc(x,c) = x^2 + c\n",
    "nombre(n::Int, c) = Symbol( string(\"Qc\", n, c) ) \n",
    "\n",
    "function Qcn(n::Int, c, y)\n",
    "    \n",
    "    mapeo = :(x -> x^2 + $c)\n",
    "    for i = 2:n\n",
    "        mapeo = :(x -> $(mapeo)(x^2 + $c))\n",
    "    end\n",
    "    mapback = :($(nombre(n, y))(x) = $mapeo(x))\n",
    "    return mapback\n",
    "end\n",
    "#Lo que hicimos fue buscar cuándo el valor de la derivada es (-1)^(p+1) (con p el periodo de cada órbita) , \n",
    "#al variar la c para los puntos fijos de esa Qc, y luego evaluando la derivada.\n",
    "#Se buscan alredeor de cada punto fijo dado por el orden del periodo 2^n , y se guardan en cn. \n",
    "function bifurca(p::Int, dominioc::FloatRange{Float64}, cn)\n",
    "    fn = Function[]\n",
    "    xd = xdual(0.0)\n",
    "    count = 1\n",
    "    for i in dominioc\n",
    "        x0 = 0.0\n",
    "        iterada = Qcn(p, i, count)\n",
    "        push!(fn, eval(iterada))\n",
    "        x0 = puntosfijos(fn[end], [-2, 2])\n",
    "        if length(x0) > 0\n",
    "            xd = xdual(x0[1])\n",
    "            fxd = fn[end](xd)\n",
    "            if abs(fxd.der - (1)) < 1e-5\n",
    "                push!(cn, i)\n",
    "            end\n",
    "        end\n",
    "        count += 1\n",
    "    end\n",
    "    return nothing\n",
    "end"
   ]
  },
  {
   "cell_type": "markdown",
   "metadata": {},
   "source": [
    "Si probamos con un intervalo donde se encuentren varios puntos fijos tenemos que, para la cuarta iteración, obtenemos los c0,c1 y c2. "
   ]
  },
  {
   "cell_type": "code",
   "execution_count": 17,
   "metadata": {
    "collapsed": false
   },
   "outputs": [
    {
     "name": "stderr",
     "output_type": "stream",
     "text": [
      "WARNING: Method definition Qc41(Any) in module Main at In[12]:16 overwritten at In[12]:16.\n",
      "WARNING: Method definition Qc42(Any) in module Main at In[12]:16 overwritten at In[12]:16.\n",
      "WARNING: Method definition Qc43(Any) in module Main at In[12]:16 overwritten at In[12]:16.\n",
      "WARNING: Method definition Qc44(Any) in module Main at In[12]:16 overwritten at In[12]:16.\n",
      "WARNING: Method definition Qc45(Any) in module Main at In[12]:16 overwritten at In[12]:16.\n",
      "WARNING: Method definition Qc46(Any) in module Main at In[12]:16 overwritten at In[12]:16.\n",
      "WARNING: Method definition Qc47(Any) in module Main at In[12]:16 overwritten at In[12]:16.\n",
      "WARNING: Method definition Qc48(Any) in module Main at In[12]:16 overwritten at In[12]:16.\n",
      "WARNING: Method definition Qc49(Any) in module Main at In[12]:16 overwritten at In[12]:16.\n",
      "WARNING: Method definition Qc410(Any) in module Main at In[12]:16 overwritten at In[12]:16.\n",
      "WARNING: Method definition Qc411(Any) in module Main at In[12]:16 overwritten at In[12]:16.\n",
      "WARNING: Method definition Qc412(Any) in module Main at In[12]:16 overwritten at In[12]:16.\n",
      "WARNING: Method definition Qc413(Any) in module Main at In[12]:16 overwritten at In[12]:16.\n",
      "WARNING: Method definition Qc414(Any) in module Main at In[12]:16 overwritten at In[12]:16.\n",
      "WARNING: Method definition Qc415(Any) in module Main at In[12]:16 overwritten at In[12]:16.\n",
      "WARNING: Method definition Qc416(Any) in module Main at In[12]:16 overwritten at In[12]:16.\n",
      "WARNING: Method definition Qc417(Any) in module Main at In[12]:16 overwritten at In[12]:16.\n",
      "WARNING: Method definition Qc418(Any) in module Main at In[12]:16 overwritten at In[12]:16.\n",
      "WARNING: Method definition Qc419(Any) in module Main at In[12]:16 overwritten at In[12]:16.\n",
      "WARNING: Method definition Qc420(Any) in module Main at In[12]:16 overwritten at In[12]:16.\n",
      "WARNING: Method definition Qc421(Any) in module Main at In[12]:16 overwritten at In[12]:16.\n",
      "WARNING: Method definition Qc422(Any) in module Main at In[12]:16 overwritten at In[12]:16.\n",
      "WARNING: Method definition Qc423(Any) in module Main at In[12]:16 overwritten at In[12]:16.\n",
      "WARNING: Method definition Qc424(Any) in module Main at In[12]:16 overwritten at In[12]:16.\n",
      "WARNING: Method definition Qc425(Any) in module Main at In[12]:16 overwritten at In[12]:16.\n",
      "WARNING: Method definition Qc426(Any) in module Main at In[12]:16 overwritten at In[12]:16.\n",
      "WARNING: Method definition Qc427(Any) in module Main at In[12]:16 overwritten at In[12]:16.\n",
      "WARNING: Method definition Qc428(Any) in module Main at In[12]:16 overwritten at In[12]:16.\n",
      "WARNING: Method definition Qc429(Any) in module Main at In[12]:16 overwritten at In[12]:16.\n",
      "WARNING: Method definition Qc430(Any) in module Main at In[12]:16 overwritten at In[12]:16.\n",
      "WARNING: Method definition Qc431(Any) in module Main at In[12]:16 overwritten at In[12]:16.\n",
      "WARNING: Method definition Qc432(Any) in module Main at In[12]:16 overwritten at In[12]:16.\n",
      "WARNING: Method definition Qc433(Any) in module Main at In[12]:16 overwritten at In[12]:16.\n",
      "WARNING: Method definition Qc434(Any) in module Main at In[12]:16 overwritten at In[12]:16.\n",
      "WARNING: Method definition Qc435(Any) in module Main at In[12]:16 overwritten at In[12]:16.\n",
      "WARNING: Method definition Qc436(Any) in module Main at In[12]:16 overwritten at In[12]:16.\n",
      "WARNING: Method definition Qc437(Any) in module Main at In[12]:16 overwritten at In[12]:16.\n",
      "WARNING: Method definition Qc438(Any) in module Main at In[12]:16 overwritten at In[12]:16.\n",
      "WARNING: Method definition Qc439(Any) in module Main at In[12]:16 overwritten at In[12]:16.\n",
      "WARNING: Method definition Qc440(Any) in module Main at In[12]:16 overwritten at In[12]:16.\n",
      "WARNING: Method definition Qc441(Any) in module Main at In[12]:16 overwritten at In[12]:16.\n",
      "WARNING: Method definition Qc442(Any) in module Main at In[12]:16 overwritten at In[12]:16.\n",
      "WARNING: Method definition Qc443(Any) in module Main at In[12]:16 overwritten at In[12]:16.\n",
      "WARNING: Method definition Qc444(Any) in module Main at In[12]:16 overwritten at In[12]:16.\n",
      "WARNING: Method definition Qc445(Any) in module Main at In[12]:16 overwritten at In[12]:16.\n",
      "WARNING: Method definition Qc446(Any) in module Main at In[12]:16 overwritten at In[12]:16.\n",
      "WARNING: Method definition Qc447(Any) in module Main at In[12]:16 overwritten at In[12]:16.\n",
      "WARNING: Method definition Qc448(Any) in module Main at In[12]:16 overwritten at In[12]:16.\n",
      "WARNING: Method definition Qc449(Any) in module Main at In[12]:16 overwritten at In[12]:16.\n",
      "WARNING: Method definition Qc450(Any) in module Main at In[12]:16 overwritten at In[12]:16.\n",
      "WARNING: Method definition Qc451(Any) in module Main at In[12]:16 overwritten at In[12]:16.\n",
      "WARNING: Method definition Qc452(Any) in module Main at In[12]:16 overwritten at In[12]:16.\n",
      "WARNING: Method definition Qc453(Any) in module Main at In[12]:16 overwritten at In[12]:16.\n",
      "WARNING: Method definition Qc454(Any) in module Main at In[12]:16 overwritten at In[12]:16.\n",
      "WARNING: Method definition Qc455(Any) in module Main at In[12]:16 overwritten at In[12]:16.\n",
      "WARNING: Method definition Qc456(Any) in module Main at In[12]:16 overwritten at In[12]:16.\n",
      "WARNING: Method definition Qc457(Any) in module Main at In[12]:16 overwritten at In[12]:16.\n",
      "WARNING: Method definition Qc458(Any) in module Main at In[12]:16 overwritten at In[12]:16.\n",
      "WARNING: Method definition Qc459(Any) in module Main at In[12]:16 overwritten at In[12]:16.\n",
      "WARNING: Method definition Qc460(Any) in module Main at In[12]:16 overwritten at In[12]:16.\n",
      "WARNING: Method definition Qc461(Any) in module Main at In[12]:16 overwritten at In[12]:16.\n",
      "WARNING: Method definition Qc462(Any) in module Main at In[12]:16 overwritten at In[12]:16.\n",
      "WARNING: Method definition Qc463(Any) in module Main at In[12]:16 overwritten at In[12]:16.\n",
      "WARNING: Method definition Qc464(Any) in module Main at In[12]:16 overwritten at In[12]:16.\n",
      "WARNING: Method definition Qc465(Any) in module Main at In[12]:16 overwritten at In[12]:16.\n",
      "WARNING: Method definition Qc466(Any) in module Main at In[12]:16 overwritten at In[12]:16.\n",
      "WARNING: Method definition Qc467(Any) in module Main at In[12]:16 overwritten at In[12]:16.\n",
      "WARNING: Method definition Qc468(Any) in module Main at In[12]:16 overwritten at In[12]:16.\n",
      "WARNING: Method definition Qc469(Any) in module Main at In[12]:16 overwritten at In[12]:16.\n",
      "WARNING: Method definition Qc470(Any) in module Main at In[12]:16 overwritten at In[12]:16.\n",
      "WARNING: Method definition Qc471(Any) in module Main at In[12]:16 overwritten at In[12]:16.\n",
      "WARNING: Method definition Qc472(Any) in module Main at In[12]:16 overwritten at In[12]:16.\n",
      "WARNING: Method definition Qc473(Any) in module Main at In[12]:16 overwritten at In[12]:16.\n",
      "WARNING: Method definition Qc474(Any) in module Main at In[12]:16 overwritten at In[12]:16.\n",
      "WARNING: Method definition Qc475(Any) in module Main at In[12]:16 overwritten at In[12]:16.\n",
      "WARNING: Method definition Qc476(Any) in module Main at In[12]:16 overwritten at In[12]:16.\n",
      "WARNING: Method definition Qc477(Any) in module Main at In[12]:16 overwritten at In[12]:16.\n",
      "WARNING: Method definition Qc478(Any) in module Main at In[12]:16 overwritten at In[12]:16.\n",
      "WARNING: Method definition Qc479(Any) in module Main at In[12]:16 overwritten at In[12]:16.\n",
      "WARNING: Method definition Qc480(Any) in module Main at In[12]:16 overwritten at In[12]:16.\n"
     ]
    },
    {
     "data": {
      "text/plain": [
       "4-element Array{Float64,1}:\n",
       "  0.25\n",
       " -0.75\n",
       " -1.25\n",
       " -1.25"
      ]
     },
     "execution_count": 17,
     "metadata": {},
     "output_type": "execute_result"
    }
   ],
   "source": [
    "\n",
    "bifurca(4,(-0.75-1/2^6):-1/2^6:-2, cn1)\n",
    "cn1"
   ]
  },
  {
   "cell_type": "markdown",
   "metadata": {},
   "source": [
    "Pero ya no funciona para el C3, sospechamos que debemos encontrar otro método de obtener los puntos fijos. "
   ]
  },
  {
   "cell_type": "code",
   "execution_count": null,
   "metadata": {
    "collapsed": false
   },
   "outputs": [],
   "source": []
  },
  {
   "cell_type": "code",
   "execution_count": null,
   "metadata": {
    "collapsed": false
   },
   "outputs": [],
   "source": []
  },
  {
   "cell_type": "code",
   "execution_count": null,
   "metadata": {
    "collapsed": true
   },
   "outputs": [],
   "source": []
  }
 ],
 "metadata": {
  "kernelspec": {
   "display_name": "Julia 0.5.0",
   "language": "julia",
   "name": "julia-0.5"
  },
  "language_info": {
   "file_extension": ".jl",
   "mimetype": "application/julia",
   "name": "julia",
   "version": "0.5.0"
  }
 },
 "nbformat": 4,
 "nbformat_minor": 0
}
